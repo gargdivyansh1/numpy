{
 "cells": [
  {
   "cell_type": "markdown",
   "id": "cae70fab",
   "metadata": {},
   "source": [
    "### Numpy array and basics"
   ]
  },
  {
   "cell_type": "code",
   "execution_count": 33,
   "id": "04e568f4",
   "metadata": {},
   "outputs": [],
   "source": [
    "import numpy as np\n",
    "import time "
   ]
  },
  {
   "cell_type": "markdown",
   "id": "c8a31ea2",
   "metadata": {},
   "source": [
    "### Creating array from list"
   ]
  },
  {
   "cell_type": "code",
   "execution_count": 3,
   "id": "2aa49cfa",
   "metadata": {},
   "outputs": [
    {
     "name": "stdout",
     "output_type": "stream",
     "text": [
      "1D array:  [1 2 3 4 5]\n",
      "2D array:  [[1 2 3]\n",
      " [4 5 6]]\n"
     ]
    }
   ],
   "source": [
    "arr_1d = np.array([1,2,3,4,5])\n",
    "print(\"1D array: \", arr_1d)\n",
    "\n",
    "arr_2d = np.array([[1,2,3], [4,5,6]])\n",
    "print(\"2D array: \", arr_2d)"
   ]
  },
  {
   "cell_type": "markdown",
   "id": "67dbf82a",
   "metadata": {},
   "source": [
    "### List vs numpy array"
   ]
  },
  {
   "cell_type": "code",
   "execution_count": null,
   "id": "31d638b0",
   "metadata": {},
   "outputs": [
    {
     "name": "stdout",
     "output_type": "stream",
     "text": [
      "Python list Multiplication :  [1, 2, 3, 4, 5, 1, 2, 3, 4, 5]\n",
      "python array Multiplication:  [ 2  4  6  8 10]\n",
      "\n",
      "List:  [0, 2, 4, 6, 8]\n",
      "List operation time:  0.08499407768249512\n",
      "\n",
      "Array:  [0 2 4 6 8]\n",
      "Array operation time:  0.004007101058959961\n"
     ]
    }
   ],
   "source": [
    "# making python list \n",
    "py_list = [1, 2, 3, 4, 5]\n",
    "## here the list will be copied the number of times you multiply it\n",
    "print(\"Python list Multiplication : \", py_list * 2)\n",
    "\n",
    "# making python array also called numpy array \n",
    "np_array = np.array([1, 2, 3, 4, 5])\n",
    "## here the multiplication is done element-wise\n",
    "print(\"python array Multiplication: \", np_array * 2)\n",
    "\n",
    "start = time.time()\n",
    "time_list = [i*2 for i in range(1000000)]\n",
    "print(\"\\nList: \", time_list[:5])\n",
    "print(\"List operation time: \", time.time() - start)\n",
    "\n",
    "start = time.time()\n",
    "# the arange is used for creating array which includes integers under specific range .. it includes three things - start end step \n",
    "time_array = np.arange(1000000) * 2 \n",
    "print(\"\\nArray: \", time_array[:5])\n",
    "print(\"Array operation time: \", time.time() - start)"
   ]
  },
  {
   "cell_type": "markdown",
   "id": "f75eb621",
   "metadata": {},
   "source": [
    "### Creating array from scratch\n"
   ]
  },
  {
   "cell_type": "code",
   "execution_count": null,
   "id": "e55cf11c",
   "metadata": {},
   "outputs": [
    {
     "name": "stdout",
     "output_type": "stream",
     "text": [
      "\n",
      "Zeros Array: \n",
      " [[0. 0. 0. 0.]\n",
      " [0. 0. 0. 0.]\n",
      " [0. 0. 0. 0.]]\n",
      "\n",
      "Ones Array: \n",
      " [[1. 1. 1. 1.]\n",
      " [1. 1. 1. 1.]\n",
      " [1. 1. 1. 1.]]\n",
      "\n",
      "constant array: \n",
      " [[7 7 7 7]\n",
      " [7 7 7 7]\n",
      " [7 7 7 7]]\n",
      "\n",
      "Random Array: \n",
      " [[0.55311676 0.20824565 0.53871153 0.90317324]\n",
      " [0.75865019 0.88135017 0.95838682 0.31232653]\n",
      " [0.31599868 0.41023869 0.23503853 0.86861714]]\n"
     ]
    }
   ],
   "source": [
    "# for creating a array with only zeros \n",
    "zeros = np.zeros((3,4)) # we provide the dimension of the array \n",
    "print(\"\\nZeros Array: \\n\", zeros)\n",
    "\n",
    "# for creating a array with only ones\n",
    "ones = np.ones((3, 4)) # it also take the dimesnion of the array \n",
    "print(\"\\nOnes Array: \\n\", ones)\n",
    "\n",
    "# for creating an array with the specific constant value \n",
    "constant = np.full((3,4), 7)\n",
    "print(\"\\nconstant array: \\n\", constant)\n",
    "\n",
    "# this will give the matrix of random values .. the values are between 0 and 1\n",
    "random = np.random.random((3,4))\n",
    "print(\"\\nRandom Array: \\n\", random)"
   ]
  },
  {
   "cell_type": "markdown",
   "id": "cb63c3e9",
   "metadata": {},
   "source": [
    "### Vector, Matrix and Tensor"
   ]
  },
  {
   "cell_type": "code",
   "execution_count": null,
   "id": "fee7ffc0",
   "metadata": {},
   "outputs": [
    {
     "name": "stdout",
     "output_type": "stream",
     "text": [
      "\n",
      "Vector:  [1 2 3]\n",
      "\n",
      "Matrix: \n",
      " [[1 2 3]\n",
      " [4 5 6]]\n",
      "\n",
      "Tensor: \n",
      " [[[1 2]\n",
      "  [3 4]]\n",
      "\n",
      " [[5 6]\n",
      "  [7 8]]]\n"
     ]
    }
   ],
   "source": [
    "vector = np.array([1, 2, 3])\n",
    "print(\"\\nVector: \", vector)\n",
    "\n",
    "# for creating a 2D matrix\n",
    "matrix = np.array([[1, 2, 3], [4, 5, 6]])\n",
    "print(\"\\nMatrix: \\n\", matrix)\n",
    "\n",
    "# for creating a tensor\n",
    "# a matrix having more than 2 dimensions is called tensor\n",
    "tensor = np.array([[[1, 2], [3, 4]], [[5, 6], [7, 8]]])\n",
    "print(\"\\nTensor: \\n\", tensor)"
   ]
  },
  {
   "cell_type": "markdown",
   "id": "c21a0013",
   "metadata": {},
   "source": [
    "### Array Properties"
   ]
  },
  {
   "cell_type": "code",
   "execution_count": null,
   "id": "93230007",
   "metadata": {},
   "outputs": [
    {
     "name": "stdout",
     "output_type": "stream",
     "text": [
      "\n",
      "Shape of the array:  (2, 3)\n",
      "Number of dimensions:  2\n",
      "Size of the array:  6\n",
      "Data type of the array:  int64\n"
     ]
    }
   ],
   "source": [
    "arr = np.array([[1,2,3],[4,5,6]])\n",
    "\n",
    "# for getting the shape of the array .. shape is the number of rows and columns in the array\n",
    "# first rows and them columns\n",
    "print(\"\\nShape of the array: \", arr.shape)\n",
    "\n",
    "# for getting the number of dimensions of the array \n",
    "print(\"Number of dimensions: \", arr.ndim)\n",
    "\n",
    "# for getting the size of the array .. size is the total number of elements in the array \n",
    "print(\"Size of the array: \", arr.size)\n",
    "\n",
    "# for getting the data type of the array \n",
    "# generally it is considered to use single data type for the array \n",
    "print(\"Data type of the array: \", arr.dtype)"
   ]
  },
  {
   "cell_type": "markdown",
   "id": "fd855470",
   "metadata": {},
   "source": [
    "### Array Reshaping\n"
   ]
  },
  {
   "cell_type": "code",
   "execution_count": null,
   "id": "9e315e55",
   "metadata": {},
   "outputs": [
    {
     "name": "stdout",
     "output_type": "stream",
     "text": [
      "\n",
      "Array for slicing:  [ 1  2  3  4  5  6  7  8  9 10]\n",
      "Reshaped Array: \n",
      " [[ 1  2]\n",
      " [ 3  4]\n",
      " [ 5  6]\n",
      " [ 7  8]\n",
      " [ 9 10]]\n",
      "Transposed Array: \n",
      " [[ 1  3  5  7  9]\n",
      " [ 2  4  6  8 10]]\n",
      "Flattened Array:  [ 1  2  3  4  5  6  7  8  9 10]\n",
      "Raveled Array:  [ 1  2  3  4  5  6  7  8  9 10]\n"
     ]
    }
   ],
   "source": [
    "arr = np.arange(1, 11)\n",
    "print(\"\\nArray for slicing: \", arr)\n",
    "\n",
    "# we only can reshape the array if the total number of elements in the array is equal to the total number of elements in the reshaped array\n",
    "reshaped = arr.reshape(5, 2)  # reshaping the array to 5 rows and 2 columns\n",
    "print(\"Reshaped Array: \\n\", reshaped)\n",
    "\n",
    "# for getting the transpose of the array\n",
    "transposed = reshaped.T  # transposing the reshaped array\n",
    "print(\"Transposed Array: \\n\", transposed)\n",
    "\n",
    "# to make a matrix into the 1D array \n",
    "flatterned = arr.flatten()  # converting the array to 1D\n",
    "print(\"Flattened Array: \", flatterned)\n",
    "\n",
    "# ravel is used to convert the multi-dimensional array into 1D array \n",
    "# but it will return a view of the original array if possible\n",
    "raveled = reshaped.ravel() \n",
    "print(\"Raveled Array: \", raveled)\n"
   ]
  },
  {
   "cell_type": "code",
   "execution_count": null,
   "id": "02b86c2c",
   "metadata": {},
   "outputs": [],
   "source": []
  }
 ],
 "metadata": {
  "kernelspec": {
   "display_name": "venv",
   "language": "python",
   "name": "python3"
  },
  "language_info": {
   "codemirror_mode": {
    "name": "ipython",
    "version": 3
   },
   "file_extension": ".py",
   "mimetype": "text/x-python",
   "name": "python",
   "nbconvert_exporter": "python",
   "pygments_lexer": "ipython3",
   "version": "3.12.7"
  }
 },
 "nbformat": 4,
 "nbformat_minor": 5
}
