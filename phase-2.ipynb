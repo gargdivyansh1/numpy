{
 "cells": [
  {
   "cell_type": "markdown",
   "id": "74664fc3",
   "metadata": {},
   "source": [
    "### Numpy Array Operations\n"
   ]
  },
  {
   "cell_type": "code",
   "execution_count": 4,
   "id": "edede1ba",
   "metadata": {},
   "outputs": [],
   "source": [
    "import numpy as np"
   ]
  },
  {
   "cell_type": "code",
   "execution_count": 5,
   "id": "2cb76cb5",
   "metadata": {},
   "outputs": [
    {
     "name": "stdout",
     "output_type": "stream",
     "text": [
      "Original array: [ 1  2  3  4  5  6  7  8  9 10]\n",
      "Basic Slicing:  [3 4 5 6 7]\n",
      "With step:  [2 4 6 8]\n",
      "Negative indices:  8\n"
     ]
    }
   ],
   "source": [
    "arr = np.array([1, 2, 3, 4, 5, 6, 7, 8, 9, 10])\n",
    "print(\"Original array:\", arr)\n",
    "print(\"Basic Slicing: \", arr[2:7])\n",
    "print(\"With step: \", arr[1:8:2])\n",
    "print(\"Negative indices: \", arr[-3])"
   ]
  },
  {
   "cell_type": "code",
   "execution_count": 6,
   "id": "c8356310",
   "metadata": {},
   "outputs": [
    {
     "name": "stdout",
     "output_type": "stream",
     "text": [
      "2D Array:\n",
      " [[1 2 3]\n",
      " [4 5 6]\n",
      " [7 8 9]]\n",
      "Specific element : 6\n",
      "Row slicing:  [4 5 6]\n",
      "Column slicing:  [2 5 8]\n",
      "Sub-array slicing:  [[2 3]\n",
      " [5 6]]\n"
     ]
    }
   ],
   "source": [
    "arr_2d = np.array([[1, 2, 3], [4, 5, 6], [7, 8, 9]])\n",
    "print(\"2D Array:\\n\", arr_2d)\n",
    "print(\"Specific element :\", arr_2d[1, 2])  # Element at row 1, column 2\n",
    "print(\"Row slicing: \", arr_2d[1, :])  # All columns of row 1\n",
    "print(\"Column slicing: \", arr_2d[:, 1])  # All rows of column 1\n",
    "print(\"Sub-array slicing: \", arr_2d[0:2, 1:3])  # Rows 0-1 and columns 1-2"
   ]
  },
  {
   "cell_type": "markdown",
   "id": "11849a98",
   "metadata": {},
   "source": [
    "### Sorting"
   ]
  },
  {
   "cell_type": "code",
   "execution_count": 7,
   "id": "82711f5d",
   "metadata": {},
   "outputs": [
    {
     "name": "stdout",
     "output_type": "stream",
     "text": [
      "Unsorted array: [3 1 4 2 4 9 4 5 7 0 6 8]\n",
      "Sorted array (not in-place):  [0 1 2 3 4 4 4 5 6 7 8 9]\n",
      "Sorted array in descending order (not in-place):  [9 8 7 6 5 4 4 4 3 2 1 0]\n",
      "Unsorted 2D array:\n",
      " [[3 1 4]\n",
      " [2 4 9]\n",
      " [4 5 7]\n",
      " [2 6 8]]\n",
      "Sorted 2D array along columns:\n",
      " [[2 1 4]\n",
      " [2 4 7]\n",
      " [3 5 8]\n",
      " [4 6 9]]\n",
      "Sorted 2D array along columns in descending order:\n",
      " [[4 6 9]\n",
      " [3 5 8]\n",
      " [2 4 7]\n",
      " [2 1 4]]\n",
      "Sorted 2D array based on first column:\n",
      " [[2 4 9]\n",
      " [2 6 8]\n",
      " [3 1 4]\n",
      " [4 5 7]]\n",
      "Sorted 2D array along rows:\n",
      " [[1 3 4]\n",
      " [2 4 9]\n",
      " [4 5 7]\n",
      " [2 6 8]]\n",
      "Sorted 2D array along rows in descending order:\n",
      " [[4 3 1]\n",
      " [9 4 2]\n",
      " [7 5 4]\n",
      " [8 6 2]]\n",
      "Sorted 2D array based on first row:\n",
      " [[1 3 4]\n",
      " [4 2 9]\n",
      " [5 4 7]\n",
      " [6 2 8]]\n"
     ]
    }
   ],
   "source": [
    "# sorting a 1D array\n",
    "\n",
    "unsorted = np.array([3, 1, 4, 2, 4, 9, 4, 5, 7, 0, 6, 8])\n",
    "print(\"Unsorted array:\", unsorted)\n",
    "\n",
    "# this will not change the original array and just print the sorted result \n",
    "# if you print the unsorted array again, it will still be unsorted\n",
    "sortedArray = np.sort(unsorted)\n",
    "print(\"Sorted array (not in-place): \", sortedArray)\n",
    "#print(\"Original array after sorting: \", unsorted)\n",
    "\n",
    "# this will change the original array and make it sorted and return none\n",
    "# if you print the unsorted array again, it will be sorted\n",
    "# unsorted.sort()\n",
    "# print(\"Sorted array (in-place) and the original array: \", unsorted)\n",
    "\n",
    "# now we want to sort the array in descending order\n",
    "sortedArrayDesc = np.sort(unsorted)[::-1]\n",
    "print(\"Sorted array in descending order (not in-place): \", sortedArrayDesc)\n",
    "\n",
    "\n",
    "\n",
    "\n",
    "# Sorting a 2D array\n",
    "\n",
    "unsorted_2d = np.array([[3, 1, 4], [2, 4, 9], [4, 5, 7], [2, 6, 8]])\n",
    "print(\"Unsorted 2D array:\\n\", unsorted_2d)\n",
    "\n",
    "# Note: This sorts each column independently\n",
    "sorted_2d_cols = np.sort(unsorted_2d, axis=0)  # Sort along columns\n",
    "print(\"Sorted 2D array along columns:\\n\", sorted_2d_cols)\n",
    "sorted_2d_desc_cols = sorted_2d_cols[::-1] # each column in descending order\n",
    "print(\"Sorted 2D array along columns in descending order:\\n\", sorted_2d_desc_cols)\n",
    "\n",
    "# sorting on the basis of first column \n",
    "sorted_2d_first_col = unsorted_2d[unsorted_2d[:, 0].argsort()]\n",
    "print(\"Sorted 2D array based on first column:\\n\", sorted_2d_first_col)\n",
    "\n",
    "# Note: This sorts each row independently\n",
    "sorted_2d_rows = np.sort(unsorted_2d, axis=1)  # Sort along rows\n",
    "print(\"Sorted 2D array along rows:\\n\", sorted_2d_rows)\n",
    "sorted_2d_desc_rows = sorted_2d_rows[:, ::-1]  # each row in descending order\n",
    "print(\"Sorted 2D array along rows in descending order:\\n\", sorted_2d_desc_rows)\n",
    "\n",
    "# sorting on the basis of first row \n",
    "sorted_2d_first_row = unsorted_2d[:, unsorted_2d[0, :].argsort()]\n",
    "print(\"Sorted 2D array based on first row:\\n\", sorted_2d_first_row)\n"
   ]
  },
  {
   "cell_type": "markdown",
   "id": "2d7649c7",
   "metadata": {},
   "source": [
    "### Filter"
   ]
  },
  {
   "cell_type": "code",
   "execution_count": 8,
   "id": "01a808fe",
   "metadata": {},
   "outputs": [
    {
     "name": "stdout",
     "output_type": "stream",
     "text": [
      "Even Numbers:  [ 2  4  6  8 10]\n"
     ]
    }
   ],
   "source": [
    "numbers = np.array([1, 2, 3, 4, 5, 6, 7, 8, 9, 10])\n",
    "\n",
    "# even number from the array \n",
    "even_numbers = numbers[numbers % 2 == 0]\n",
    "print(\"Even Numbers: \", even_numbers)\n"
   ]
  },
  {
   "cell_type": "markdown",
   "id": "f6d5fba0",
   "metadata": {},
   "source": [
    "### Filter by Mask"
   ]
  },
  {
   "cell_type": "code",
   "execution_count": 9,
   "id": "a60c1e66",
   "metadata": {},
   "outputs": [
    {
     "name": "stdout",
     "output_type": "stream",
     "text": [
      "Odd numbers:  [1 3 5 7 9]\n"
     ]
    }
   ],
   "source": [
    "mask = numbers % 2 != 0\n",
    "odd_numbers = numbers[mask]\n",
    "print(\"Odd numbers: \", odd_numbers)\n"
   ]
  },
  {
   "cell_type": "markdown",
   "id": "aa20f8e0",
   "metadata": {},
   "source": [
    "### Fancy indexing vs np.where()"
   ]
  },
  {
   "cell_type": "code",
   "execution_count": 10,
   "id": "31248379",
   "metadata": {},
   "outputs": [
    {
     "name": "stdout",
     "output_type": "stream",
     "text": [
      "[1 3 5]\n",
      "NP where:  [ 6  7  8  9 10]\n"
     ]
    }
   ],
   "source": [
    "indices = [0,2,4]\n",
    "print(numbers[indices])\n",
    "\n",
    "where_result = np.where(numbers > 5)\n",
    "print(\"NP where: \", numbers[where_result])"
   ]
  },
  {
   "cell_type": "markdown",
   "id": "9aa1d776",
   "metadata": {},
   "source": [
    "### condition array"
   ]
  },
  {
   "cell_type": "code",
   "execution_count": null,
   "id": "b77cc749",
   "metadata": {},
   "outputs": [
    {
     "name": "stdout",
     "output_type": "stream",
     "text": [
      "Condition_array:  (array([5, 6, 7, 8, 9]),)\n",
      "Condition array:  [ 2  4  6  8 10  6  7  8  9 10]\n"
     ]
    }
   ],
   "source": [
    "condition_array = np.where(numbers > 5)\n",
    "print(\"Condition_array: \", condition_array)\n",
    "\n",
    "# the where clause is work as the if else statement \n",
    "# like if the conditon full fill then some thing would happen if not then something would happen\n",
    "\n",
    "condition_array = np.where(numbers > 5, numbers, numbers*2)\n",
    "# so in this the numbers which are greater then 5 would remain as it is and the numbers which are smaller then 5 would be multiplied by 2\n",
    "print(\"Condition array: \", condition_array)"
   ]
  },
  {
   "cell_type": "markdown",
   "id": "bc2570fb",
   "metadata": {},
   "source": [
    "### Adding and Removing of data"
   ]
  },
  {
   "cell_type": "code",
   "execution_count": null,
   "id": "3316e5c5",
   "metadata": {},
   "outputs": [
    {
     "name": "stdout",
     "output_type": "stream",
     "text": [
      "[5 7 9]\n",
      "[1 2 3 4 5 6]\n"
     ]
    }
   ],
   "source": [
    "arr1 = np.array([1,2,3])\n",
    "arr2 = np.array([4,5,6])\n",
    "\n",
    "# this will do the array addition\n",
    "combined = arr1 + arr2\n",
    "print(combined)\n",
    "#[5 7 9]\n",
    "\n",
    "# for concatination\n",
    "concatination = np.concatenate((arr1, arr2))\n",
    "print(concatination)\n",
    "#[1 2 3 4 5 6]\n",
    "\n"
   ]
  },
  {
   "cell_type": "markdown",
   "id": "ceb87ce5",
   "metadata": {},
   "source": [
    "### Array compatibility"
   ]
  },
  {
   "cell_type": "code",
   "execution_count": 17,
   "id": "e1906ece",
   "metadata": {},
   "outputs": [
    {
     "name": "stdout",
     "output_type": "stream",
     "text": [
      "Compatability Shapes:  False\n"
     ]
    }
   ],
   "source": [
    "a = np.array([1,2,3])\n",
    "b = np.array([4,5,6,7])\n",
    "c = np.array([7,8,9])\n",
    "\n",
    "print(\"Compatability Shapes: \", a.shape == b.shape)"
   ]
  },
  {
   "cell_type": "code",
   "execution_count": 25,
   "id": "f87b6834",
   "metadata": {},
   "outputs": [
    {
     "name": "stdout",
     "output_type": "stream",
     "text": [
      "[[1 2]\n",
      " [3 4]\n",
      " [5 6]]\n",
      "[[1 2 9]\n",
      " [3 4 8]]\n"
     ]
    }
   ],
   "source": [
    "original = np.array([[1,2], [3,4]])\n",
    "new_row = np.array([[5,6]])\n",
    "new_col = np.array([[9],[8]])\n",
    "\n",
    "## this will add the col and row on the last index\n",
    "# for adding a new row \n",
    "with_new_row = np.vstack((original, new_row))\n",
    "print(with_new_row)\n",
    "\n",
    "# for adding a new col\n",
    "with_new_col = np.hstack((original, new_col))\n",
    "print(with_new_col)"
   ]
  },
  {
   "cell_type": "code",
   "execution_count": null,
   "id": "e8c0decf",
   "metadata": {},
   "outputs": [
    {
     "name": "stdout",
     "output_type": "stream",
     "text": [
      "Array after deletion:  [1 2]\n",
      "[[1 2 3]\n",
      " [4 5 6]]\n",
      "[1 3 4 5 6]\n"
     ]
    }
   ],
   "source": [
    "## for deleting \n",
    "\n",
    "# here we are deleting any index element in the 1D array\n",
    "ar1 = np.array([1,2,3,4,5,6])\n",
    "deleted1 = np.delete(arr1, 2)\n",
    "print(\"Array after deletion: \", deleted1)\n",
    "\n",
    "# here we want to delete any row in the 2D array \n",
    "# in the 2D array it will flattern the array and then delete normal deltion with the indexing \n",
    "arr2 = np.array([[1,2,3], [4,5,6]])\n",
    "deleted2 = np.delete(arr2, 1)\n"
   ]
  },
  {
   "cell_type": "code",
   "execution_count": null,
   "id": "42bfe72d",
   "metadata": {},
   "outputs": [],
   "source": []
  }
 ],
 "metadata": {
  "kernelspec": {
   "display_name": "venv",
   "language": "python",
   "name": "python3"
  },
  "language_info": {
   "codemirror_mode": {
    "name": "ipython",
    "version": 3
   },
   "file_extension": ".py",
   "mimetype": "text/x-python",
   "name": "python",
   "nbconvert_exporter": "python",
   "pygments_lexer": "ipython3",
   "version": "3.12.7"
  }
 },
 "nbformat": 4,
 "nbformat_minor": 5
}
