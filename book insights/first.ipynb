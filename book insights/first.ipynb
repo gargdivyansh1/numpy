{
 "cells": [
  {
   "cell_type": "code",
   "execution_count": 45,
   "id": "1a832e53",
   "metadata": {},
   "outputs": [],
   "source": [
    "import numpy as np\n",
    "import matplotlib.pyplot as plt"
   ]
  },
  {
   "cell_type": "code",
   "execution_count": 46,
   "id": "ba39bf88",
   "metadata": {},
   "outputs": [],
   "source": [
    "%matplotlib inline"
   ]
  },
  {
   "cell_type": "code",
   "execution_count": 47,
   "id": "2940454c",
   "metadata": {},
   "outputs": [
    {
     "data": {
      "text/plain": [
       "1"
      ]
     },
     "execution_count": 47,
     "metadata": {},
     "output_type": "execute_result"
    }
   ],
   "source": [
    "# for getting the random integer number in the range of 1 to 6 we use randint \n",
    "np.random.randint(1,7)"
   ]
  },
  {
   "cell_type": "code",
   "execution_count": 48,
   "id": "47a8df87",
   "metadata": {},
   "outputs": [],
   "source": [
    "# the size attribute decide the number of time the condition will run and take the values \n",
    "few_rolls = np.random.randint(1, 7, size = 100)"
   ]
  },
  {
   "cell_type": "code",
   "execution_count": 49,
   "id": "76f3af24",
   "metadata": {},
   "outputs": [
    {
     "data": {
      "text/plain": [
       "array([5, 3, 2, 4, 2, 1, 3, 6, 4, 5, 2, 4, 1, 3, 4, 1, 5, 4, 1, 6, 2, 5,\n",
       "       4, 6, 6, 5, 1, 4, 4, 6, 4, 5, 5, 2, 4, 2, 5, 4, 5, 2, 6, 3, 6, 1,\n",
       "       4, 2, 2, 4, 4, 1, 4, 6, 6, 4, 4, 6, 1, 4, 3, 1, 2, 5, 2, 4, 2, 2,\n",
       "       5, 4, 2, 1, 3, 1, 2, 5, 4, 4, 3, 4, 3, 3, 4, 6, 2, 4, 2, 4, 6, 3,\n",
       "       1, 5, 1, 4, 3, 2, 2, 4, 2, 3, 4, 3])"
      ]
     },
     "execution_count": 49,
     "metadata": {},
     "output_type": "execute_result"
    }
   ],
   "source": [
    "few_rolls"
   ]
  },
  {
   "cell_type": "code",
   "execution_count": 50,
   "id": "b1c53fee",
   "metadata": {},
   "outputs": [],
   "source": [
    "many_rolls = np.random.randint(1, 7, size = 1000)"
   ]
  },
  {
   "cell_type": "code",
   "execution_count": 51,
   "id": "3c5947a1",
   "metadata": {},
   "outputs": [
    {
     "data": {
      "text/plain": [
       "array([3, 5, 5, 4, 2, 6, 3, 3, 1, 2, 2, 1, 3, 1, 5, 3, 1, 6, 5, 6, 5, 2,\n",
       "       1, 4, 4, 3, 2, 4, 5, 5, 4, 5, 4, 2, 2, 2, 2, 3, 6, 6, 5, 5, 5, 5,\n",
       "       3, 1, 4, 4, 3, 4, 3, 1, 4, 3, 6, 3, 4, 1, 3, 3, 6, 5, 2, 5, 1, 4,\n",
       "       3, 4, 1, 6, 2, 2, 5, 3, 4, 5, 1, 6, 2, 4, 1, 4, 4, 5, 3, 1, 5, 2,\n",
       "       5, 3, 3, 5, 1, 5, 1, 6, 6, 3, 3, 2, 5, 5, 5, 5, 3, 5, 4, 2, 1, 1,\n",
       "       2, 4, 6, 2, 6, 2, 6, 5, 2, 2, 3, 4, 2, 2, 6, 6, 3, 1, 3, 5, 2, 3,\n",
       "       1, 6, 1, 2, 4, 2, 2, 1, 3, 3, 3, 6, 6, 5, 4, 3, 2, 3, 2, 5, 1, 6,\n",
       "       2, 6, 2, 5, 1, 6, 6, 5, 6, 2, 5, 5, 2, 2, 6, 1, 5, 2, 2, 3, 1, 2,\n",
       "       2, 2, 3, 4, 3, 6, 5, 1, 6, 3, 1, 6, 1, 3, 1, 4, 5, 4, 2, 4, 6, 1,\n",
       "       1, 1, 1, 6, 5, 1, 3, 2, 4, 5, 6, 1, 2, 6, 2, 5, 6, 6, 2, 1, 2, 4,\n",
       "       2, 1, 3, 1, 2, 3, 6, 2, 4, 3, 2, 2, 4, 6, 3, 2, 1, 1, 1, 2, 4, 3,\n",
       "       4, 5, 6, 6, 5, 4, 4, 5, 1, 6, 6, 5, 5, 2, 1, 5, 3, 5, 2, 6, 3, 1,\n",
       "       1, 6, 1, 6, 2, 4, 4, 5, 5, 6, 3, 1, 2, 5, 4, 3, 4, 4, 2, 6, 6, 5,\n",
       "       5, 3, 6, 1, 6, 6, 2, 1, 1, 1, 3, 6, 6, 6, 4, 4, 3, 4, 5, 6, 6, 6,\n",
       "       4, 4, 4, 5, 1, 2, 3, 4, 2, 6, 5, 1, 3, 4, 2, 2, 6, 4, 3, 3, 2, 2,\n",
       "       1, 6, 6, 5, 6, 6, 6, 6, 2, 2, 5, 3, 3, 4, 2, 6, 6, 6, 2, 2, 1, 2,\n",
       "       1, 2, 5, 2, 5, 3, 5, 3, 5, 1, 6, 6, 6, 4, 4, 6, 5, 4, 2, 3, 6, 4,\n",
       "       2, 1, 5, 2, 2, 2, 2, 1, 6, 4, 6, 4, 4, 5, 6, 2, 3, 4, 3, 4, 6, 6,\n",
       "       2, 5, 1, 2, 3, 1, 3, 2, 1, 5, 3, 6, 2, 5, 1, 6, 3, 5, 3, 4, 4, 3,\n",
       "       3, 4, 6, 3, 2, 4, 2, 3, 2, 1, 6, 3, 6, 6, 5, 2, 2, 1, 2, 3, 3, 6,\n",
       "       3, 6, 2, 1, 5, 1, 6, 4, 6, 5, 3, 2, 6, 2, 5, 3, 5, 1, 1, 6, 3, 1,\n",
       "       6, 1, 2, 4, 4, 4, 4, 2, 1, 4, 3, 2, 2, 4, 3, 2, 4, 6, 6, 6, 4, 6,\n",
       "       6, 4, 5, 5, 3, 3, 4, 3, 5, 4, 1, 2, 4, 4, 1, 5, 1, 4, 1, 3, 1, 3,\n",
       "       1, 6, 6, 3, 1, 5, 6, 6, 4, 2, 5, 2, 5, 3, 3, 1, 5, 5, 1, 5, 5, 6,\n",
       "       2, 3, 4, 6, 6, 5, 2, 5, 3, 3, 5, 1, 5, 2, 5, 6, 3, 2, 3, 4, 1, 2,\n",
       "       1, 6, 6, 3, 6, 2, 1, 1, 1, 3, 5, 2, 3, 4, 6, 3, 6, 5, 4, 4, 4, 5,\n",
       "       6, 2, 3, 4, 5, 6, 5, 2, 1, 1, 6, 6, 5, 5, 5, 4, 4, 6, 1, 4, 6, 6,\n",
       "       3, 3, 2, 3, 6, 4, 3, 1, 2, 6, 6, 1, 1, 2, 3, 5, 4, 2, 6, 3, 3, 1,\n",
       "       5, 3, 6, 2, 6, 3, 3, 6, 1, 5, 3, 5, 6, 4, 2, 2, 5, 4, 2, 1, 4, 2,\n",
       "       4, 1, 5, 4, 4, 5, 5, 4, 4, 3, 5, 1, 3, 3, 3, 4, 4, 2, 4, 3, 1, 6,\n",
       "       4, 1, 3, 2, 1, 6, 3, 3, 2, 2, 5, 6, 6, 1, 6, 1, 6, 2, 3, 6, 4, 5,\n",
       "       4, 2, 6, 6, 2, 5, 1, 1, 1, 1, 2, 5, 5, 3, 4, 4, 4, 2, 2, 2, 6, 2,\n",
       "       4, 3, 1, 5, 3, 1, 2, 6, 2, 2, 2, 3, 1, 1, 2, 1, 3, 4, 2, 4, 5, 6,\n",
       "       2, 4, 4, 5, 4, 1, 1, 4, 5, 1, 2, 4, 2, 3, 6, 1, 3, 4, 1, 1, 6, 6,\n",
       "       5, 6, 5, 6, 2, 1, 6, 2, 4, 4, 4, 4, 6, 2, 2, 1, 6, 2, 4, 4, 5, 3,\n",
       "       3, 5, 4, 1, 2, 5, 6, 1, 1, 2, 2, 1, 5, 3, 5, 1, 4, 2, 6, 2, 2, 2,\n",
       "       4, 3, 1, 3, 1, 4, 6, 3, 4, 5, 2, 6, 1, 5, 2, 3, 3, 5, 5, 1, 3, 3,\n",
       "       2, 5, 1, 3, 4, 5, 1, 2, 6, 5, 6, 5, 5, 5, 2, 5, 2, 6, 1, 1, 2, 4,\n",
       "       5, 1, 6, 4, 1, 1, 3, 2, 3, 5, 1, 2, 2, 6, 6, 1, 2, 1, 6, 3, 5, 1,\n",
       "       2, 1, 5, 2, 3, 6, 6, 6, 3, 4, 1, 1, 5, 6, 6, 6, 2, 1, 6, 2, 4, 3,\n",
       "       4, 4, 5, 3, 3, 2, 6, 3, 4, 5, 6, 4, 2, 4, 6, 6, 1, 2, 1, 5, 1, 3,\n",
       "       6, 6, 2, 2, 3, 5, 4, 2, 3, 4, 2, 5, 6, 4, 4, 3, 4, 4, 1, 2, 4, 4,\n",
       "       5, 4, 1, 6, 2, 5, 1, 4, 4, 3, 1, 3, 1, 4, 1, 4, 5, 3, 2, 3, 5, 2,\n",
       "       5, 4, 4, 4, 4, 1, 5, 5, 2, 4, 2, 2, 6, 1, 6, 1, 6, 1, 2, 2, 3, 1,\n",
       "       4, 5, 6, 6, 3, 6, 3, 3, 5, 4, 4, 2, 1, 4, 4, 3, 1, 4, 1, 4, 6, 6,\n",
       "       6, 6, 1, 1, 3, 1, 2, 4, 3, 3])"
      ]
     },
     "execution_count": 51,
     "metadata": {},
     "output_type": "execute_result"
    }
   ],
   "source": [
    "many_rolls"
   ]
  },
  {
   "cell_type": "code",
   "execution_count": 52,
   "id": "af3d9cb6",
   "metadata": {},
   "outputs": [],
   "source": [
    "## the histogram take the continuous values \n",
    "# bins are used for grouping the values "
   ]
  },
  {
   "cell_type": "code",
   "execution_count": 61,
   "id": "367f3e93",
   "metadata": {},
   "outputs": [],
   "source": [
    "# here we are filling the values in their respective categories .. "
   ]
  },
  {
   "cell_type": "code",
   "execution_count": 62,
   "id": "0bcaf846",
   "metadata": {},
   "outputs": [],
   "source": [
    "## plotting them using the histogram of the numpy itself \n",
    "few_counts = np.histogram(few_rolls, bins = np.arange(.5, 7.5))[0]"
   ]
  },
  {
   "cell_type": "code",
   "execution_count": 63,
   "id": "d6f52adb",
   "metadata": {},
   "outputs": [
    {
     "data": {
      "text/plain": [
       "array([13, 20, 13, 29, 13, 12], dtype=int64)"
      ]
     },
     "execution_count": 63,
     "metadata": {},
     "output_type": "execute_result"
    }
   ],
   "source": [
    "few_counts"
   ]
  },
  {
   "cell_type": "code",
   "execution_count": 64,
   "id": "b1889cae",
   "metadata": {},
   "outputs": [],
   "source": [
    "many_counts = np.histogram(many_rolls, bins = np.arange(.5, 7.5))[0]"
   ]
  },
  {
   "cell_type": "code",
   "execution_count": 65,
   "id": "75909cf0",
   "metadata": {},
   "outputs": [
    {
     "data": {
      "text/plain": [
       "array([164, 184, 159, 163, 152, 178], dtype=int64)"
      ]
     },
     "execution_count": 65,
     "metadata": {},
     "output_type": "execute_result"
    }
   ],
   "source": [
    "many_counts"
   ]
  },
  {
   "cell_type": "code",
   "execution_count": 66,
   "id": "0d66211e",
   "metadata": {},
   "outputs": [],
   "source": [
    "fig, (ax1, ax2) = plt.subplots(1, 2, figsize = (8, 3))"
   ]
  },
  {
   "cell_type": "code",
   "execution_count": 67,
   "id": "1bf079f7",
   "metadata": {},
   "outputs": [
    {
     "data": {
      "image/png": "[encoded data removed]",
      "text/plain": [
       "<Figure size 800x300 with 2 Axes>"
      ]
     },
     "execution_count": 67,
     "metadata": {},
     "output_type": "execute_result"
    }
   ],
   "source": [
    "fig"
   ]
  },
  {
   "cell_type": "code",
   "execution_count": 68,
   "id": "fc78d517",
   "metadata": {},
   "outputs": [
    {
     "data": {
      "text/plain": [
       "<BarContainer object of 6 artists>"
      ]
     },
     "execution_count": 68,
     "metadata": {},
     "output_type": "execute_result"
    }
   ],
   "source": [
    "ax1.bar(np.arange(1, 7), few_counts)\n",
    "ax2.bar(np.arange(1, 7), many_counts)"
   ]
  },
  {
   "cell_type": "code",
   "execution_count": 69,
   "id": "6245b682",
   "metadata": {},
   "outputs": [
    {
     "data": {
      "image/png": "[encoded data removed]",
      "text/plain": [
       "<Figure size 800x300 with 2 Axes>"
      ]
     },
     "metadata": {},
     "output_type": "display_data"
    }
   ],
   "source": [
    "plt.show()"
   ]
  },
  {
   "cell_type": "code",
   "execution_count": 70,
   "id": "a347f6ad",
   "metadata": {},
   "outputs": [],
   "source": [
    "import scipy.stats as ss"
   ]
  },
  {
   "cell_type": "code",
   "execution_count": 71,
   "id": "7897e140",
   "metadata": {},
   "outputs": [],
   "source": [
    "b = ss.distributions.binom"
   ]
  },
  {
   "cell_type": "code",
   "execution_count": 80,
   "id": "303cd4fa",
   "metadata": {},
   "outputs": [
    {
     "data": {
      "image/png": "[encoded data removed]",
      "text/plain": [
       "<Figure size 640x480 with 1 Axes>"
      ]
     },
     "metadata": {},
     "output_type": "display_data"
    }
   ],
   "source": [
    "for flips in [5, 10, 20, 40, 80]:\n",
    "    success = np.arange(flips)\n",
    "    our_distribution = b.pmf(success, flips, .5)\n",
    "    #print(our_distribution)\n",
    "    plt.hist(success, flips, weights = our_distribution)\n",
    "plt.xlim(0, 55)\n",
    "plt.show()"
   ]
  },
  {
   "cell_type": "code",
   "execution_count": 84,
   "id": "634f1264",
   "metadata": {},
   "outputs": [],
   "source": [
    "b = ss.distributions.binom # for binomial distribution \n",
    "n = ss.distributions.norm # normal approximations "
   ]
  },
  {
   "cell_type": "code",
   "execution_count": 88,
   "id": "260d21b6",
   "metadata": {},
   "outputs": [
    {
     "data": {
      "image/png": "[encoded data removed]",
      "text/plain": [
       "<Figure size 640x480 with 1 Axes>"
      ]
     },
     "metadata": {},
     "output_type": "display_data"
    }
   ],
   "source": [
    "for flips in [5, 10, 20, 40, 80]:\n",
    "    # binomial coin flip \n",
    "    success = np.arange(flips)\n",
    "    out_distributions = b.pmf(success, flips, .5)\n",
    "    plt.hist(success, flips, weights=out_distributions)\n",
    "\n",
    "    # normal approximations to that binomial\n",
    "    # we have to set the mean and the standard deviation\n",
    "    mu = flips * .5\n",
    "    std_dev = np.sqrt(flips * .5 * (1-.5))\n",
    "    norm_x = np.linspace(mu-3 * std_dev, mu+3*std_dev, 100)\n",
    "    #print(norm_x)\n",
    "    norm_y = n.pdf(norm_x, mu, std_dev)\n",
    "    plt.plot(norm_x, norm_y, 'k')\n",
    "plt.xlim(0, 55)\n",
    "plt.show()"
   ]
  },
  {
   "cell_type": "code",
   "execution_count": 92,
   "id": "a0e993a5",
   "metadata": {},
   "outputs": [],
   "source": [
    "# some old school python "
   ]
  },
  {
   "cell_type": "code",
   "execution_count": 93,
   "id": "412d7a39",
   "metadata": {},
   "outputs": [],
   "source": [
    "quantity = [2, 12, 3]\n",
    "costs = [12.5, .5, 1.75]"
   ]
  },
  {
   "cell_type": "code",
   "execution_count": 94,
   "id": "508d7d74",
   "metadata": {},
   "outputs": [],
   "source": [
    "partial_cost = []"
   ]
  },
  {
   "cell_type": "code",
   "execution_count": 95,
   "id": "5960f0ae",
   "metadata": {},
   "outputs": [
    {
     "data": {
      "text/plain": [
       "36.25"
      ]
     },
     "execution_count": 95,
     "metadata": {},
     "output_type": "execute_result"
    }
   ],
   "source": [
    "for q,c in zip(quantity, costs):\n",
    "    partial_cost.append(q*c)\n",
    "sum(partial_cost)"
   ]
  },
  {
   "cell_type": "code",
   "execution_count": 96,
   "id": "0d79528d",
   "metadata": {},
   "outputs": [
    {
     "data": {
      "text/plain": [
       "36.25"
      ]
     },
     "execution_count": 96,
     "metadata": {},
     "output_type": "execute_result"
    }
   ],
   "source": [
    "# some new school python \n",
    "sum(q*c for q,c in zip(quantity, costs))"
   ]
  },
  {
   "cell_type": "code",
   "execution_count": 97,
   "id": "82435ab4",
   "metadata": {},
   "outputs": [],
   "source": [
    "quantity = np.asarray([2, 12, 3])\n",
    "costs = np.asarray([12.5, .5, 1.75])"
   ]
  },
  {
   "cell_type": "code",
   "execution_count": 98,
   "id": "33891a08",
   "metadata": {},
   "outputs": [
    {
     "data": {
      "text/plain": [
       "array([ 2, 12,  3])"
      ]
     },
     "execution_count": 98,
     "metadata": {},
     "output_type": "execute_result"
    }
   ],
   "source": [
    "quantity"
   ]
  },
  {
   "cell_type": "code",
   "execution_count": 99,
   "id": "8f55bc30",
   "metadata": {},
   "outputs": [
    {
     "data": {
      "text/plain": [
       "numpy.ndarray"
      ]
     },
     "execution_count": 99,
     "metadata": {},
     "output_type": "execute_result"
    }
   ],
   "source": [
    "type(quantity)"
   ]
  },
  {
   "cell_type": "code",
   "execution_count": 100,
   "id": "f72ecea3",
   "metadata": {},
   "outputs": [
    {
     "data": {
      "text/plain": [
       "(3,)"
      ]
     },
     "execution_count": 100,
     "metadata": {},
     "output_type": "execute_result"
    }
   ],
   "source": [
    "quantity.shape"
   ]
  },
  {
   "cell_type": "code",
   "execution_count": 101,
   "id": "ad3638cc",
   "metadata": {},
   "outputs": [
    {
     "data": {
      "text/plain": [
       "36.25"
      ]
     },
     "execution_count": 101,
     "metadata": {},
     "output_type": "execute_result"
    }
   ],
   "source": [
    "np.sum(quantity * costs)"
   ]
  },
  {
   "cell_type": "code",
   "execution_count": 103,
   "id": "71a940c1",
   "metadata": {},
   "outputs": [
    {
     "data": {
      "text/plain": [
       "array([25.  ,  6.  ,  5.25])"
      ]
     },
     "execution_count": 103,
     "metadata": {},
     "output_type": "execute_result"
    }
   ],
   "source": [
    "quantity * costs"
   ]
  },
  {
   "cell_type": "code",
   "execution_count": 104,
   "id": "b8c5461e",
   "metadata": {},
   "outputs": [
    {
     "name": "stdout",
     "output_type": "stream",
     "text": [
      "36.25 36.25 36.25\n"
     ]
    }
   ],
   "source": [
    "# different ways of doing the dot product and getting the sum \n",
    "print(\n",
    "    quantity.dot(costs),\n",
    "    np.dot(quantity, costs),\n",
    "    quantity @ costs,\n",
    ")"
   ]
  },
  {
   "cell_type": "code",
   "execution_count": 107,
   "id": "1ded2745",
   "metadata": {},
   "outputs": [],
   "source": [
    "# '{:2d} {:5.2f} --> {:5.2f}' is a format string for aligned output.\n",
    "\n",
    "# {:2d} → integer with width 2 (for quantity)\n",
    "\n",
    "# {:5.2f} → float with 2 decimal places and width 5 (for cost and total cost)\n",
    "\n",
    "# --> separates the unit cost and total cost"
   ]
  },
  {
   "cell_type": "code",
   "execution_count": 108,
   "id": "82e1003f",
   "metadata": {},
   "outputs": [
    {
     "name": "stdout",
     "output_type": "stream",
     "text": [
      " 2 12.50 --> 25.00\n",
      "12  0.50 -->  6.00\n",
      " 3  1.75 -->  5.25\n",
      "Total: 36.25\n"
     ]
    }
   ],
   "source": [
    "for q_i, c_i in zip(quantity, costs):\n",
    "    print('{:2d} {:5.2f} --> {:5.2f}'.format(q_i, c_i, q_i * c_i))\n",
    "\n",
    "print('Total:',\n",
    "      sum(q*c for q,c in zip(quantity, costs)))"
   ]
  },
  {
   "cell_type": "code",
   "execution_count": 109,
   "id": "7727eed2",
   "metadata": {},
   "outputs": [],
   "source": [
    "values = np.array([10.0, 20.0, 30.0])\n",
    "weights = np.full_like(values, 1/3) # repeated 1/3"
   ]
  },
  {
   "cell_type": "code",
   "execution_count": 110,
   "id": "47c9be24",
   "metadata": {},
   "outputs": [
    {
     "name": "stdout",
     "output_type": "stream",
     "text": [
      "[0.33333333 0.33333333 0.33333333]\n"
     ]
    }
   ],
   "source": [
    "print(weights)"
   ]
  },
  {
   "cell_type": "code",
   "execution_count": 111,
   "id": "a9bcdd69",
   "metadata": {},
   "outputs": [
    {
     "name": "stdout",
     "output_type": "stream",
     "text": [
      "[10. 20. 30.]\n"
     ]
    }
   ],
   "source": [
    "print(values)"
   ]
  },
  {
   "cell_type": "code",
   "execution_count": 115,
   "id": "23eb1c91",
   "metadata": {},
   "outputs": [
    {
     "data": {
      "text/plain": [
       "20.0"
      ]
     },
     "execution_count": 115,
     "metadata": {},
     "output_type": "execute_result"
    }
   ],
   "source": [
    "np.mean(values) # sum all and divide by number .. and the number is 3 "
   ]
  },
  {
   "cell_type": "code",
   "execution_count": 116,
   "id": "490ea529",
   "metadata": {},
   "outputs": [
    {
     "data": {
      "text/plain": [
       "20.0"
      ]
     },
     "execution_count": 116,
     "metadata": {},
     "output_type": "execute_result"
    }
   ],
   "source": [
    "# for getting the weighted mean \n",
    "np.dot(values, weights) # here we are taking the dot product of the values and the array containing the 1/n "
   ]
  },
  {
   "cell_type": "code",
   "execution_count": 118,
   "id": "d2f0e382",
   "metadata": {},
   "outputs": [
    {
     "data": {
      "text/plain": [
       "17.5"
      ]
     },
     "execution_count": 118,
     "metadata": {},
     "output_type": "execute_result"
    }
   ],
   "source": [
    "values = np.array([10, 20, 30])\n",
    "weights = np.array([.5, .25, .25])\n",
    "np.dot(values, weights)"
   ]
  },
  {
   "cell_type": "code",
   "execution_count": 120,
   "id": "a2d9eee4",
   "metadata": {},
   "outputs": [],
   "source": [
    "## for getting the even number get 1.0 and for getting the odd number give 0.5\n",
    "payoffs = np.array([1.0, -.5])\n",
    "prob = np.array([.5, .5]) # containing the probability of getting the even and odd when rolling a dice "
   ]
  },
  {
   "cell_type": "code",
   "execution_count": 137,
   "id": "8c67dfef",
   "metadata": {},
   "outputs": [
    {
     "data": {
      "text/plain": [
       "0.25"
      ]
     },
     "execution_count": 137,
     "metadata": {},
     "output_type": "execute_result"
    }
   ],
   "source": [
    "np.dot(payoffs, prob) # this is the probable score"
   ]
  },
  {
   "cell_type": "code",
   "execution_count": 122,
   "id": "7e5f5c6a",
   "metadata": {},
   "outputs": [
    {
     "data": {
      "text/plain": [
       "250.0"
      ]
     },
     "execution_count": 122,
     "metadata": {},
     "output_type": "execute_result"
    }
   ],
   "source": [
    "# for the 1000 games \n",
    "np.dot(payoffs, prob) * 1000"
   ]
  },
  {
   "cell_type": "code",
   "execution_count": 123,
   "id": "8d63a4af",
   "metadata": {},
   "outputs": [],
   "source": [
    "def is_even(n):\n",
    "    return n % 2 == 0"
   ]
  },
  {
   "cell_type": "code",
   "execution_count": 135,
   "id": "0adce6c2",
   "metadata": {},
   "outputs": [],
   "source": [
    "winnings = 0.0"
   ]
  },
  {
   "cell_type": "code",
   "execution_count": 136,
   "id": "92f243d0",
   "metadata": {},
   "outputs": [
    {
     "name": "stdout",
     "output_type": "stream",
     "text": [
      "-0.5\n"
     ]
    }
   ],
   "source": [
    "for toss_ct in range(1):\n",
    "    die_toss = np.random.randint(1, 7)\n",
    "    winnings += 1.0 if is_even(die_toss) else -0.5\n",
    "print(winnings)"
   ]
  },
  {
   "cell_type": "code",
   "execution_count": 138,
   "id": "015d9e2c",
   "metadata": {},
   "outputs": [],
   "source": [
    "# Sums of Squares "
   ]
  },
  {
   "cell_type": "code",
   "execution_count": 139,
   "id": "c0f693d4",
   "metadata": {},
   "outputs": [
    {
     "name": "stdout",
     "output_type": "stream",
     "text": [
      "[25  9  4  1]\n",
      "39\n",
      "39\n"
     ]
    }
   ],
   "source": [
    "values = np.array([5, -3, 2, 1])\n",
    "squares = values * values \n",
    "print(squares, \n",
    "      np.sum(squares),\n",
    "      np.dot(values, values), sep='\\n')"
   ]
  },
  {
   "cell_type": "code",
   "execution_count": 141,
   "id": "a42e7935",
   "metadata": {},
   "outputs": [],
   "source": [
    "import pandas as pd"
   ]
  },
  {
   "cell_type": "code",
   "execution_count": 140,
   "id": "5fabe997",
   "metadata": {},
   "outputs": [],
   "source": [
    "errors = np.array([5, -5, 3.2, -1.1])"
   ]
  },
  {
   "cell_type": "code",
   "execution_count": 144,
   "id": "ca195ad2",
   "metadata": {},
   "outputs": [],
   "source": [
    "df = pd.DataFrame({'errors': errors, \n",
    "                      'squared': errors*errors})"
   ]
  },
  {
   "cell_type": "code",
   "execution_count": 145,
   "id": "55139108",
   "metadata": {},
   "outputs": [
    {
     "data": {
      "text/html": [
       "<div>\n",
       "<style scoped>\n",
       "    .dataframe tbody tr th:only-of-type {\n",
       "        vertical-align: middle;\n",
       "    }\n",
       "\n",
       "    .dataframe tbody tr th {\n",
       "        vertical-align: top;\n",
       "    }\n",
       "\n",
       "    .dataframe thead th {\n",
       "        text-align: right;\n",
       "    }\n",
       "</style>\n",
       "<table border=\"1\" class=\"dataframe\">\n",
       "  <thead>\n",
       "    <tr style=\"text-align: right;\">\n",
       "      <th></th>\n",
       "      <th>errors</th>\n",
       "      <th>squared</th>\n",
       "    </tr>\n",
       "  </thead>\n",
       "  <tbody>\n",
       "    <tr>\n",
       "      <th>0</th>\n",
       "      <td>5.0</td>\n",
       "      <td>25.00</td>\n",
       "    </tr>\n",
       "    <tr>\n",
       "      <th>1</th>\n",
       "      <td>-5.0</td>\n",
       "      <td>25.00</td>\n",
       "    </tr>\n",
       "    <tr>\n",
       "      <th>2</th>\n",
       "      <td>3.2</td>\n",
       "      <td>10.24</td>\n",
       "    </tr>\n",
       "    <tr>\n",
       "      <th>3</th>\n",
       "      <td>-1.1</td>\n",
       "      <td>1.21</td>\n",
       "    </tr>\n",
       "  </tbody>\n",
       "</table>\n",
       "</div>"
      ],
      "text/plain": [
       "   errors  squared\n",
       "0     5.0    25.00\n",
       "1    -5.0    25.00\n",
       "2     3.2    10.24\n",
       "3    -1.1     1.21"
      ]
     },
     "metadata": {},
     "output_type": "display_data"
    }
   ],
   "source": [
    "display(df)"
   ]
  },
  {
   "cell_type": "code",
   "execution_count": 143,
   "id": "342814ec",
   "metadata": {},
   "outputs": [
    {
     "data": {
      "text/plain": [
       "61.45"
      ]
     },
     "execution_count": 143,
     "metadata": {},
     "output_type": "execute_result"
    }
   ],
   "source": [
    "np.dot(errors, errors)"
   ]
  },
  {
   "cell_type": "code",
   "execution_count": 146,
   "id": "84dfb5db",
   "metadata": {},
   "outputs": [
    {
     "data": {
      "text/plain": [
       "61.45"
      ]
     },
     "execution_count": 146,
     "metadata": {},
     "output_type": "execute_result"
    }
   ],
   "source": [
    "df['squared'].sum()"
   ]
  },
  {
   "cell_type": "code",
   "execution_count": 153,
   "id": "091f00bd",
   "metadata": {},
   "outputs": [
    {
     "name": "stdout",
     "output_type": "stream",
     "text": [
      "[ 1  2  3  4  5  6  7  8  9 10]\n",
      "[40. 40. 40. 40. 40. 40. 40. 40. 40. 40.]\n"
     ]
    },
    {
     "data": {
      "image/png": "[encoded data removed]",
      "text/plain": [
       "<Figure size 640x480 with 1 Axes>"
      ]
     },
     "metadata": {},
     "output_type": "display_data"
    }
   ],
   "source": [
    "people = np.arange(1, 11)\n",
    "print(people)\n",
    "total_cost = np.ones_like(people) * 40.0 # setting the value for eact point of the people\n",
    "print(total_cost)\n",
    "ax = plt.gca() ## get current axes\n",
    "ax.plot(people, total_cost)\n",
    "ax.set_xlabel('# People')\n",
    "ax.set_ylabel('Cost\\n(Parking Only)')\n",
    "plt.show()"
   ]
  },
  {
   "cell_type": "code",
   "execution_count": 157,
   "id": "86476cf0",
   "metadata": {},
   "outputs": [
    {
     "name": "stdout",
     "output_type": "stream",
     "text": [
      "[ 1  2  3  4  5  6  7  8  9 10]\n"
     ]
    }
   ],
   "source": [
    "people = np.arange(1, 11)\n",
    "print(people)\n",
    "total_cost = 80.0 * people + 40.0 "
   ]
  },
  {
   "cell_type": "code",
   "execution_count": 155,
   "id": "a1507e4a",
   "metadata": {},
   "outputs": [
    {
     "data": {
      "text/plain": [
       "array([120., 200., 280., 360., 440., 520., 600., 680., 760., 840.])"
      ]
     },
     "execution_count": 155,
     "metadata": {},
     "output_type": "execute_result"
    }
   ],
   "source": [
    "total_cost"
   ]
  },
  {
   "cell_type": "code",
   "execution_count": 167,
   "id": "46ad5d95",
   "metadata": {},
   "outputs": [
    {
     "data": {
      "text/html": [
       "<div>\n",
       "<style scoped>\n",
       "    .dataframe tbody tr th:only-of-type {\n",
       "        vertical-align: middle;\n",
       "    }\n",
       "\n",
       "    .dataframe tbody tr th {\n",
       "        vertical-align: top;\n",
       "    }\n",
       "\n",
       "    .dataframe thead th {\n",
       "        text-align: right;\n",
       "    }\n",
       "</style>\n",
       "<table border=\"1\" class=\"dataframe\">\n",
       "  <thead>\n",
       "    <tr style=\"text-align: right;\">\n",
       "      <th></th>\n",
       "      <th>total_cost</th>\n",
       "    </tr>\n",
       "  </thead>\n",
       "  <tbody>\n",
       "    <tr>\n",
       "      <th>1</th>\n",
       "      <td>120</td>\n",
       "    </tr>\n",
       "    <tr>\n",
       "      <th>2</th>\n",
       "      <td>200</td>\n",
       "    </tr>\n",
       "    <tr>\n",
       "      <th>3</th>\n",
       "      <td>280</td>\n",
       "    </tr>\n",
       "    <tr>\n",
       "      <th>4</th>\n",
       "      <td>360</td>\n",
       "    </tr>\n",
       "    <tr>\n",
       "      <th>5</th>\n",
       "      <td>440</td>\n",
       "    </tr>\n",
       "    <tr>\n",
       "      <th>6</th>\n",
       "      <td>520</td>\n",
       "    </tr>\n",
       "    <tr>\n",
       "      <th>7</th>\n",
       "      <td>600</td>\n",
       "    </tr>\n",
       "    <tr>\n",
       "      <th>8</th>\n",
       "      <td>680</td>\n",
       "    </tr>\n",
       "    <tr>\n",
       "      <th>9</th>\n",
       "      <td>760</td>\n",
       "    </tr>\n",
       "    <tr>\n",
       "      <th>10</th>\n",
       "      <td>840</td>\n",
       "    </tr>\n",
       "  </tbody>\n",
       "</table>\n",
       "</div>"
      ],
      "text/plain": [
       "    total_cost\n",
       "1          120\n",
       "2          200\n",
       "3          280\n",
       "4          360\n",
       "5          440\n",
       "6          520\n",
       "7          600\n",
       "8          680\n",
       "9          760\n",
       "10         840"
      ]
     },
     "metadata": {},
     "output_type": "display_data"
    },
    {
     "data": {
      "image/png": "[encoded data removed]",
      "text/plain": [
       "<Figure size 640x480 with 1 Axes>"
      ]
     },
     "metadata": {},
     "output_type": "display_data"
    }
   ],
   "source": [
    "display(pd.DataFrame({'total_cost': total_cost.astype(int)}, \n",
    "                     index = people))\n",
    "ax = plt.gca()\n",
    "ax.plot(people, total_cost, 'bo') ## if only b is written then we will be getting a straight line\n",
    "ax.set_ylabel(\"Total Cost\")\n",
    "ax.set_xlabel(\"People\")\n",
    "plt.show()"
   ]
  },
  {
   "cell_type": "code",
   "execution_count": 181,
   "id": "81bbf7dd",
   "metadata": {},
   "outputs": [],
   "source": [
    "xs = np.linspace(-3, 3, 100) ## create 100 values from -3 to 3"
   ]
  },
  {
   "cell_type": "code",
   "execution_count": 182,
   "id": "fb992d94",
   "metadata": {},
   "outputs": [
    {
     "data": {
      "text/plain": [
       "array([-3.        , -2.93939394, -2.87878788, -2.81818182, -2.75757576,\n",
       "       -2.6969697 , -2.63636364, -2.57575758, -2.51515152, -2.45454545,\n",
       "       -2.39393939, -2.33333333, -2.27272727, -2.21212121, -2.15151515,\n",
       "       -2.09090909, -2.03030303, -1.96969697, -1.90909091, -1.84848485,\n",
       "       -1.78787879, -1.72727273, -1.66666667, -1.60606061, -1.54545455,\n",
       "       -1.48484848, -1.42424242, -1.36363636, -1.3030303 , -1.24242424,\n",
       "       -1.18181818, -1.12121212, -1.06060606, -1.        , -0.93939394,\n",
       "       -0.87878788, -0.81818182, -0.75757576, -0.6969697 , -0.63636364,\n",
       "       -0.57575758, -0.51515152, -0.45454545, -0.39393939, -0.33333333,\n",
       "       -0.27272727, -0.21212121, -0.15151515, -0.09090909, -0.03030303,\n",
       "        0.03030303,  0.09090909,  0.15151515,  0.21212121,  0.27272727,\n",
       "        0.33333333,  0.39393939,  0.45454545,  0.51515152,  0.57575758,\n",
       "        0.63636364,  0.6969697 ,  0.75757576,  0.81818182,  0.87878788,\n",
       "        0.93939394,  1.        ,  1.06060606,  1.12121212,  1.18181818,\n",
       "        1.24242424,  1.3030303 ,  1.36363636,  1.42424242,  1.48484848,\n",
       "        1.54545455,  1.60606061,  1.66666667,  1.72727273,  1.78787879,\n",
       "        1.84848485,  1.90909091,  1.96969697,  2.03030303,  2.09090909,\n",
       "        2.15151515,  2.21212121,  2.27272727,  2.33333333,  2.39393939,\n",
       "        2.45454545,  2.51515152,  2.57575758,  2.63636364,  2.6969697 ,\n",
       "        2.75757576,  2.81818182,  2.87878788,  2.93939394,  3.        ])"
      ]
     },
     "execution_count": 182,
     "metadata": {},
     "output_type": "execute_result"
    }
   ],
   "source": [
    "xs"
   ]
  },
  {
   "cell_type": "code",
   "execution_count": 183,
   "id": "f5d7efa9",
   "metadata": {},
   "outputs": [],
   "source": [
    "m, b = 1.5, -3"
   ]
  },
  {
   "cell_type": "code",
   "execution_count": 184,
   "id": "58a297c0",
   "metadata": {},
   "outputs": [],
   "source": [
    "ax = plt.gca()"
   ]
  },
  {
   "cell_type": "code",
   "execution_count": 185,
   "id": "31034029",
   "metadata": {},
   "outputs": [],
   "source": [
    "ys = m*xs + b"
   ]
  },
  {
   "cell_type": "code",
   "execution_count": 186,
   "id": "bd3f40af",
   "metadata": {},
   "outputs": [
    {
     "data": {
      "text/plain": [
       "array([-7.5       , -7.40909091, -7.31818182, -7.22727273, -7.13636364,\n",
       "       -7.04545455, -6.95454545, -6.86363636, -6.77272727, -6.68181818,\n",
       "       -6.59090909, -6.5       , -6.40909091, -6.31818182, -6.22727273,\n",
       "       -6.13636364, -6.04545455, -5.95454545, -5.86363636, -5.77272727,\n",
       "       -5.68181818, -5.59090909, -5.5       , -5.40909091, -5.31818182,\n",
       "       -5.22727273, -5.13636364, -5.04545455, -4.95454545, -4.86363636,\n",
       "       -4.77272727, -4.68181818, -4.59090909, -4.5       , -4.40909091,\n",
       "       -4.31818182, -4.22727273, -4.13636364, -4.04545455, -3.95454545,\n",
       "       -3.86363636, -3.77272727, -3.68181818, -3.59090909, -3.5       ,\n",
       "       -3.40909091, -3.31818182, -3.22727273, -3.13636364, -3.04545455,\n",
       "       -2.95454545, -2.86363636, -2.77272727, -2.68181818, -2.59090909,\n",
       "       -2.5       , -2.40909091, -2.31818182, -2.22727273, -2.13636364,\n",
       "       -2.04545455, -1.95454545, -1.86363636, -1.77272727, -1.68181818,\n",
       "       -1.59090909, -1.5       , -1.40909091, -1.31818182, -1.22727273,\n",
       "       -1.13636364, -1.04545455, -0.95454545, -0.86363636, -0.77272727,\n",
       "       -0.68181818, -0.59090909, -0.5       , -0.40909091, -0.31818182,\n",
       "       -0.22727273, -0.13636364, -0.04545455,  0.04545455,  0.13636364,\n",
       "        0.22727273,  0.31818182,  0.40909091,  0.5       ,  0.59090909,\n",
       "        0.68181818,  0.77272727,  0.86363636,  0.95454545,  1.04545455,\n",
       "        1.13636364,  1.22727273,  1.31818182,  1.40909091,  1.5       ])"
      ]
     },
     "execution_count": 186,
     "metadata": {},
     "output_type": "execute_result"
    }
   ],
   "source": [
    "ys"
   ]
  },
  {
   "cell_type": "code",
   "execution_count": 187,
   "id": "7cc76f47",
   "metadata": {},
   "outputs": [
    {
     "data": {
      "image/png": "[encoded data removed]",
      "text/plain": [
       "<Figure size 640x480 with 1 Axes>"
      ]
     },
     "metadata": {},
     "output_type": "display_data"
    }
   ],
   "source": [
    "ax.plot(xs, ys)\n",
    "plt.show()"
   ]
  },
  {
   "cell_type": "code",
   "execution_count": 188,
   "id": "d84baa58",
   "metadata": {},
   "outputs": [
    {
     "data": {
      "text/plain": [
       "(-4.0, 4.0)"
      ]
     },
     "execution_count": 188,
     "metadata": {},
     "output_type": "execute_result"
    }
   ],
   "source": [
    "ax.set_ylim(-4, 4)"
   ]
  },
  {
   "cell_type": "code",
   "execution_count": 189,
   "id": "8c814bac",
   "metadata": {},
   "outputs": [
    {
     "data": {
      "text/plain": [
       "[<matplotlib.lines.Line2D at 0x26e802cad20>]"
      ]
     },
     "execution_count": 189,
     "metadata": {},
     "output_type": "execute_result"
    }
   ],
   "source": [
    "ax.plot(0, -3, 'ro')\n",
    "ax.plot(2, 0, 'ro')"
   ]
  },
  {
   "cell_type": "code",
   "execution_count": 194,
   "id": "98cc8a4d",
   "metadata": {},
   "outputs": [],
   "source": [
    "ys = b"
   ]
  },
  {
   "cell_type": "code",
   "execution_count": 202,
   "id": "3c8ae1d2",
   "metadata": {},
   "outputs": [
    {
     "name": "stdout",
     "output_type": "stream",
     "text": [
      "[-3.         -2.93939394 -2.87878788 -2.81818182 -2.75757576 -2.6969697\n",
      " -2.63636364 -2.57575758 -2.51515152 -2.45454545 -2.39393939 -2.33333333\n",
      " -2.27272727 -2.21212121 -2.15151515 -2.09090909 -2.03030303 -1.96969697\n",
      " -1.90909091 -1.84848485 -1.78787879 -1.72727273 -1.66666667 -1.60606061\n",
      " -1.54545455 -1.48484848 -1.42424242 -1.36363636 -1.3030303  -1.24242424\n",
      " -1.18181818 -1.12121212 -1.06060606 -1.         -0.93939394 -0.87878788\n",
      " -0.81818182 -0.75757576 -0.6969697  -0.63636364 -0.57575758 -0.51515152\n",
      " -0.45454545 -0.39393939 -0.33333333 -0.27272727 -0.21212121 -0.15151515\n",
      " -0.09090909 -0.03030303  0.03030303  0.09090909  0.15151515  0.21212121\n",
      "  0.27272727  0.33333333  0.39393939  0.45454545  0.51515152  0.57575758\n",
      "  0.63636364  0.6969697   0.75757576  0.81818182  0.87878788  0.93939394\n",
      "  1.          1.06060606  1.12121212  1.18181818  1.24242424  1.3030303\n",
      "  1.36363636  1.42424242  1.48484848  1.54545455  1.60606061  1.66666667\n",
      "  1.72727273  1.78787879  1.84848485  1.90909091  1.96969697  2.03030303\n",
      "  2.09090909  2.15151515  2.21212121  2.27272727  2.33333333  2.39393939\n",
      "  2.45454545  2.51515152  2.57575758  2.63636364  2.6969697   2.75757576\n",
      "  2.81818182  2.87878788  2.93939394  3.        ]\n",
      "[1. 1. 1. 1. 1. 1. 1. 1. 1. 1. 1. 1. 1. 1. 1. 1. 1. 1. 1. 1. 1. 1. 1. 1.\n",
      " 1. 1. 1. 1. 1. 1. 1. 1. 1. 1. 1. 1. 1. 1. 1. 1. 1. 1. 1. 1. 1. 1. 1. 1.\n",
      " 1. 1. 1. 1. 1. 1. 1. 1. 1. 1. 1. 1. 1. 1. 1. 1. 1. 1. 1. 1. 1. 1. 1. 1.\n",
      " 1. 1. 1. 1. 1. 1. 1. 1. 1. 1. 1. 1. 1. 1. 1. 1. 1. 1. 1. 1. 1. 1. 1. 1.\n",
      " 1. 1. 1. 1.]\n"
     ]
    },
    {
     "data": {
      "text/html": [
       "<div>\n",
       "<style scoped>\n",
       "    .dataframe tbody tr th:only-of-type {\n",
       "        vertical-align: middle;\n",
       "    }\n",
       "\n",
       "    .dataframe tbody tr th {\n",
       "        vertical-align: top;\n",
       "    }\n",
       "\n",
       "    .dataframe thead th {\n",
       "        text-align: right;\n",
       "    }\n",
       "</style>\n",
       "<table border=\"1\" class=\"dataframe\">\n",
       "  <thead>\n",
       "    <tr style=\"text-align: right;\">\n",
       "      <th></th>\n",
       "      <th>0</th>\n",
       "      <th>1</th>\n",
       "    </tr>\n",
       "  </thead>\n",
       "  <tbody>\n",
       "    <tr>\n",
       "      <th>0</th>\n",
       "      <td>-3.000000</td>\n",
       "      <td>1.0</td>\n",
       "    </tr>\n",
       "    <tr>\n",
       "      <th>1</th>\n",
       "      <td>-2.939394</td>\n",
       "      <td>1.0</td>\n",
       "    </tr>\n",
       "    <tr>\n",
       "      <th>2</th>\n",
       "      <td>-2.878788</td>\n",
       "      <td>1.0</td>\n",
       "    </tr>\n",
       "    <tr>\n",
       "      <th>3</th>\n",
       "      <td>-2.818182</td>\n",
       "      <td>1.0</td>\n",
       "    </tr>\n",
       "    <tr>\n",
       "      <th>4</th>\n",
       "      <td>-2.757576</td>\n",
       "      <td>1.0</td>\n",
       "    </tr>\n",
       "  </tbody>\n",
       "</table>\n",
       "</div>"
      ],
      "text/plain": [
       "          0    1\n",
       "0 -3.000000  1.0\n",
       "1 -2.939394  1.0\n",
       "2 -2.878788  1.0\n",
       "3 -2.818182  1.0\n",
       "4 -2.757576  1.0"
      ]
     },
     "metadata": {},
     "output_type": "display_data"
    }
   ],
   "source": [
    "xs = np.linspace(-3, 3, 100)\n",
    "print(xs)\n",
    "xs_p1 = np.full_like(xs, 1)\n",
    "print(xs_p1)\n",
    "\n",
    "df = pd.DataFrame({'0': xs,\n",
    "                     '1': xs_p1})\n",
    "\n",
    "display(df.head())"
   ]
  },
  {
   "cell_type": "code",
   "execution_count": null,
   "id": "62f44c53",
   "metadata": {},
   "outputs": [
    {
     "name": "stdout",
     "output_type": "stream",
     "text": [
      "[ 1  2  3  4  5  6  7  8  9 10]\n",
      "[ 0  1  2  3  4  5  6  7  8  9 10 11 12 13 14 15 16 17 18 19]\n"
     ]
    }
   ],
   "source": [
    "number_people = np.arange(1, 11)\n",
    "number_rbs = np.arange(0, 20)\n",
    "\n",
    "print(number_people)\n",
    "print(number_rbs)\n",
    "\n",
    "number_people, number_rbs = np.meshgrid(number_people, number_rbs) ## meshgrid is used for making the 2D matrix \n",
    "print(number_people)\n",
    "print(number_rbs)\n",
    "\n",
    "total_cost = 80 * number_people + 10 * number_rbs + 40\n",
    "\n",
    "print(total_cost)\n",
    "\n",
    "# import needed for 'projection': '3d'\n",
    "from mpl_toolkits.mplot3d import Axes3D\n",
    "# 2 rows and 3 cols ,, making it 3D \n",
    "fig, axes = plt.subplots(2, 3, \n",
    "                         subplot_kw = {'projection': '3d'},\n",
    "                         figsize = (9, 6))\n",
    "\n",
    "angles = [0, 45, 90, 135, 180]\n",
    "for ax, angle in zip(axes.flat, angles):\n",
    "    ax.plot_surface(number_people, number_rbs, total_cost)\n",
    "    ax.set_ylabel('RootBeers')\n",
    "    ax.set_xlabel('People')\n",
    "    ax.set_zlabel('TotalCost')\n",
    "    ax.azim = angle \n",
    "axes.flat[-1].axis('off')\n",
    "fig.tight_layout()\n",
    "\n",
    "## incomplete .. \n",
    "## here we have converted the 1D arrays into the form of matrix and then calculating the values of total_weights and then plotting them in 3D"
   ]
  },
  {
   "cell_type": "code",
   "execution_count": 242,
   "id": "ff2df0ef",
   "metadata": {},
   "outputs": [],
   "source": [
    "number_people = np.array([2, 3])\n",
    "number_rbs = np.array([0, 1, 2])\n",
    "number_hotdogs = np.array([2, 4])\n",
    "\n",
    "costs = np.array([80, 10, 5])\n",
    "\n",
    "columns = ['People', 'RootBeer', 'HotDogs', 'TotalCost']"
   ]
  },
  {
   "cell_type": "code",
   "execution_count": 243,
   "id": "5c257dad",
   "metadata": {},
   "outputs": [],
   "source": [
    "## the cartesian product is used for making all the array combinations"
   ]
  },
  {
   "cell_type": "code",
   "execution_count": 244,
   "id": "0e84875b",
   "metadata": {},
   "outputs": [],
   "source": [
    "import numpy as np\n",
    "\n",
    "def np_cartesian_product(*arrays):\n",
    "    grids = np.meshgrid(*arrays, indexing='ij')\n",
    "    product = np.stack(grids, axis=-1).reshape(-1, len(arrays))\n",
    "    return product\n"
   ]
  },
  {
   "cell_type": "code",
   "execution_count": 245,
   "id": "e05a573a",
   "metadata": {},
   "outputs": [],
   "source": [
    "counts = np.array([\n",
    "    [p, r, h]\n",
    "    for p in number_people\n",
    "    for r in number_rbs\n",
    "    for h in number_hotdogs\n",
    "])"
   ]
  },
  {
   "cell_type": "code",
   "execution_count": 246,
   "id": "fc61c857",
   "metadata": {},
   "outputs": [
    {
     "data": {
      "text/plain": [
       "array([[2, 0, 2],\n",
       "       [2, 0, 4],\n",
       "       [2, 1, 2],\n",
       "       [2, 1, 4],\n",
       "       [2, 2, 2],\n",
       "       [2, 2, 4],\n",
       "       [3, 0, 2],\n",
       "       [3, 0, 4],\n",
       "       [3, 1, 2],\n",
       "       [3, 1, 4],\n",
       "       [3, 2, 2],\n",
       "       [3, 2, 4]])"
      ]
     },
     "execution_count": 246,
     "metadata": {},
     "output_type": "execute_result"
    }
   ],
   "source": [
    "counts"
   ]
  },
  {
   "cell_type": "code",
   "execution_count": 247,
   "id": "4639fae4",
   "metadata": {},
   "outputs": [
    {
     "data": {
      "text/plain": [
       "array([2, 2, 2, 2, 2, 2, 3, 3, 3, 3, 3, 3])"
      ]
     },
     "execution_count": 247,
     "metadata": {},
     "output_type": "execute_result"
    }
   ],
   "source": [
    "counts[:, 0]"
   ]
  },
  {
   "cell_type": "code",
   "execution_count": 248,
   "id": "4d204f1c",
   "metadata": {},
   "outputs": [
    {
     "data": {
      "text/plain": [
       "array([0, 0, 1, 1, 2, 2, 0, 0, 1, 1, 2, 2])"
      ]
     },
     "execution_count": 248,
     "metadata": {},
     "output_type": "execute_result"
    }
   ],
   "source": [
    "counts[:, 1]"
   ]
  },
  {
   "cell_type": "code",
   "execution_count": 249,
   "id": "1570e401",
   "metadata": {},
   "outputs": [
    {
     "data": {
      "text/plain": [
       "array([2, 4, 2, 4, 2, 4, 2, 4, 2, 4, 2, 4])"
      ]
     },
     "execution_count": 249,
     "metadata": {},
     "output_type": "execute_result"
    }
   ],
   "source": [
    "counts[:, 2]"
   ]
  },
  {
   "cell_type": "code",
   "execution_count": 255,
   "id": "30466b98",
   "metadata": {},
   "outputs": [],
   "source": [
    "totals = (costs[0] * counts[:, 0] + \n",
    "          costs[1] * counts[:, 1] + \n",
    "          costs[2] * counts[:, 2] + 40)"
   ]
  },
  {
   "cell_type": "code",
   "execution_count": 258,
   "id": "d90a8130",
   "metadata": {},
   "outputs": [],
   "source": [
    "total = np.dot(counts, costs) + 40"
   ]
  },
  {
   "cell_type": "code",
   "execution_count": 256,
   "id": "359a6578",
   "metadata": {},
   "outputs": [],
   "source": [
    "df = pd.DataFrame(np.c_[counts, totals], \n",
    "                  columns = columns).head(8)"
   ]
  },
  {
   "cell_type": "code",
   "execution_count": 257,
   "id": "cf02704d",
   "metadata": {},
   "outputs": [
    {
     "data": {
      "text/html": [
       "<div>\n",
       "<style scoped>\n",
       "    .dataframe tbody tr th:only-of-type {\n",
       "        vertical-align: middle;\n",
       "    }\n",
       "\n",
       "    .dataframe tbody tr th {\n",
       "        vertical-align: top;\n",
       "    }\n",
       "\n",
       "    .dataframe thead th {\n",
       "        text-align: right;\n",
       "    }\n",
       "</style>\n",
       "<table border=\"1\" class=\"dataframe\">\n",
       "  <thead>\n",
       "    <tr style=\"text-align: right;\">\n",
       "      <th></th>\n",
       "      <th>People</th>\n",
       "      <th>RootBeer</th>\n",
       "      <th>HotDogs</th>\n",
       "      <th>TotalCost</th>\n",
       "    </tr>\n",
       "  </thead>\n",
       "  <tbody>\n",
       "    <tr>\n",
       "      <th>0</th>\n",
       "      <td>2</td>\n",
       "      <td>0</td>\n",
       "      <td>2</td>\n",
       "      <td>210</td>\n",
       "    </tr>\n",
       "    <tr>\n",
       "      <th>1</th>\n",
       "      <td>2</td>\n",
       "      <td>0</td>\n",
       "      <td>4</td>\n",
       "      <td>220</td>\n",
       "    </tr>\n",
       "    <tr>\n",
       "      <th>2</th>\n",
       "      <td>2</td>\n",
       "      <td>1</td>\n",
       "      <td>2</td>\n",
       "      <td>220</td>\n",
       "    </tr>\n",
       "    <tr>\n",
       "      <th>3</th>\n",
       "      <td>2</td>\n",
       "      <td>1</td>\n",
       "      <td>4</td>\n",
       "      <td>230</td>\n",
       "    </tr>\n",
       "    <tr>\n",
       "      <th>4</th>\n",
       "      <td>2</td>\n",
       "      <td>2</td>\n",
       "      <td>2</td>\n",
       "      <td>230</td>\n",
       "    </tr>\n",
       "    <tr>\n",
       "      <th>5</th>\n",
       "      <td>2</td>\n",
       "      <td>2</td>\n",
       "      <td>4</td>\n",
       "      <td>240</td>\n",
       "    </tr>\n",
       "    <tr>\n",
       "      <th>6</th>\n",
       "      <td>3</td>\n",
       "      <td>0</td>\n",
       "      <td>2</td>\n",
       "      <td>290</td>\n",
       "    </tr>\n",
       "    <tr>\n",
       "      <th>7</th>\n",
       "      <td>3</td>\n",
       "      <td>0</td>\n",
       "      <td>4</td>\n",
       "      <td>300</td>\n",
       "    </tr>\n",
       "  </tbody>\n",
       "</table>\n",
       "</div>"
      ],
      "text/plain": [
       "   People  RootBeer  HotDogs  TotalCost\n",
       "0       2         0        2        210\n",
       "1       2         0        4        220\n",
       "2       2         1        2        220\n",
       "3       2         1        4        230\n",
       "4       2         2        2        230\n",
       "5       2         2        4        240\n",
       "6       3         0        2        290\n",
       "7       3         0        4        300"
      ]
     },
     "execution_count": 257,
     "metadata": {},
     "output_type": "execute_result"
    }
   ],
   "source": [
    "df"
   ]
  },
  {
   "cell_type": "code",
   "execution_count": 264,
   "id": "2f339149",
   "metadata": {},
   "outputs": [],
   "source": [
    "df = pd.DataFrame(np.column_stack([counts, total]), \n",
    "                     columns = columns).head()"
   ]
  },
  {
   "cell_type": "code",
   "execution_count": 265,
   "id": "3e656fe6",
   "metadata": {},
   "outputs": [
    {
     "data": {
      "text/html": [
       "<div>\n",
       "<style scoped>\n",
       "    .dataframe tbody tr th:only-of-type {\n",
       "        vertical-align: middle;\n",
       "    }\n",
       "\n",
       "    .dataframe tbody tr th {\n",
       "        vertical-align: top;\n",
       "    }\n",
       "\n",
       "    .dataframe thead th {\n",
       "        text-align: right;\n",
       "    }\n",
       "</style>\n",
       "<table border=\"1\" class=\"dataframe\">\n",
       "  <thead>\n",
       "    <tr style=\"text-align: right;\">\n",
       "      <th></th>\n",
       "      <th>People</th>\n",
       "      <th>RootBeer</th>\n",
       "      <th>HotDogs</th>\n",
       "      <th>TotalCost</th>\n",
       "    </tr>\n",
       "  </thead>\n",
       "  <tbody>\n",
       "    <tr>\n",
       "      <th>0</th>\n",
       "      <td>2</td>\n",
       "      <td>0</td>\n",
       "      <td>2</td>\n",
       "      <td>210</td>\n",
       "    </tr>\n",
       "    <tr>\n",
       "      <th>1</th>\n",
       "      <td>2</td>\n",
       "      <td>0</td>\n",
       "      <td>4</td>\n",
       "      <td>220</td>\n",
       "    </tr>\n",
       "    <tr>\n",
       "      <th>2</th>\n",
       "      <td>2</td>\n",
       "      <td>1</td>\n",
       "      <td>2</td>\n",
       "      <td>220</td>\n",
       "    </tr>\n",
       "    <tr>\n",
       "      <th>3</th>\n",
       "      <td>2</td>\n",
       "      <td>1</td>\n",
       "      <td>4</td>\n",
       "      <td>230</td>\n",
       "    </tr>\n",
       "    <tr>\n",
       "      <th>4</th>\n",
       "      <td>2</td>\n",
       "      <td>2</td>\n",
       "      <td>2</td>\n",
       "      <td>230</td>\n",
       "    </tr>\n",
       "  </tbody>\n",
       "</table>\n",
       "</div>"
      ],
      "text/plain": [
       "   People  RootBeer  HotDogs  TotalCost\n",
       "0       2         0        2        210\n",
       "1       2         0        4        220\n",
       "2       2         1        2        220\n",
       "3       2         1        4        230\n",
       "4       2         2        2        230"
      ]
     },
     "execution_count": 265,
     "metadata": {},
     "output_type": "execute_result"
    }
   ],
   "source": [
    "df"
   ]
  },
  {
   "cell_type": "code",
   "execution_count": 269,
   "id": "c505e714",
   "metadata": {},
   "outputs": [],
   "source": [
    "fig, axes = plt.subplots(2, 2)\n",
    "fig.tight_layout()\n",
    "\n",
    "titles = [\"$y=c_0$\",\n",
    "          \"$y=c_1x+c_0$\",\n",
    "          \"$y=c_2^2x+c_1x+c_0$\",\n",
    "          \"$y=c_3x^3+c_2x^2+c_1x+c_0$\"]"
   ]
  },
  {
   "cell_type": "code",
   "execution_count": 274,
   "id": "08e0a0f3",
   "metadata": {},
   "outputs": [
    {
     "name": "stdout",
     "output_type": "stream",
     "text": [
      "[-10.          -9.7979798   -9.5959596   -9.39393939  -9.19191919\n",
      "  -8.98989899  -8.78787879  -8.58585859  -8.38383838  -8.18181818\n",
      "  -7.97979798  -7.77777778  -7.57575758  -7.37373737  -7.17171717\n",
      "  -6.96969697  -6.76767677  -6.56565657  -6.36363636  -6.16161616\n",
      "  -5.95959596  -5.75757576  -5.55555556  -5.35353535  -5.15151515\n",
      "  -4.94949495  -4.74747475  -4.54545455  -4.34343434  -4.14141414\n",
      "  -3.93939394  -3.73737374  -3.53535354  -3.33333333  -3.13131313\n",
      "  -2.92929293  -2.72727273  -2.52525253  -2.32323232  -2.12121212\n",
      "  -1.91919192  -1.71717172  -1.51515152  -1.31313131  -1.11111111\n",
      "  -0.90909091  -0.70707071  -0.50505051  -0.3030303   -0.1010101\n",
      "   0.1010101    0.3030303    0.50505051   0.70707071   0.90909091\n",
      "   1.11111111   1.31313131   1.51515152   1.71717172   1.91919192\n",
      "   2.12121212   2.32323232   2.52525253   2.72727273   2.92929293\n",
      "   3.13131313   3.33333333   3.53535354   3.73737374   3.93939394\n",
      "   4.14141414   4.34343434   4.54545455   4.74747475   4.94949495\n",
      "   5.15151515   5.35353535   5.55555556   5.75757576   5.95959596\n",
      "   6.16161616   6.36363636   6.56565657   6.76767677   6.96969697\n",
      "   7.17171717   7.37373737   7.57575758   7.77777778   7.97979798\n",
      "   8.18181818   8.38383838   8.58585859   8.78787879   8.98989899\n",
      "   9.19191919   9.39393939   9.5959596    9.7979798   10.        ]\n",
      "[-1.42586384]\n",
      "[-4.76790682 -4.76155074]\n",
      "[2.35378144 0.87764714 4.18737364]\n",
      "[ 2.63806571  4.10119646  1.91116909 -0.49886392]\n"
     ]
    }
   ],
   "source": [
    "xs = np.linspace(-10, 10, 100)\n",
    "print(xs)\n",
    "for power, (ax, title) in enumerate(zip(axes.flat, titles), 1):\n",
    "    coeffs = np.random.uniform(-5, 5, power)\n",
    "    print(coeffs)\n",
    "    poly = np.poly1d(coeffs)\n",
    "    ax.plot(xs, poly(xs))\n",
    "    ax.set_title(title)"
   ]
  },
  {
   "cell_type": "code",
   "execution_count": 271,
   "id": "32982028",
   "metadata": {},
   "outputs": [
    {
     "data": {
      "image/png": "[encoded data removed]",
      "text/plain": [
       "<Figure size 640x480 with 4 Axes>"
      ]
     },
     "metadata": {},
     "output_type": "display_data"
    }
   ],
   "source": [
    "plt.show()"
   ]
  },
  {
   "cell_type": "code",
   "execution_count": 273,
   "id": "91956f01",
   "metadata": {},
   "outputs": [
    {
     "data": {
      "text/plain": [
       "<Figure size 200x150 with 0 Axes>"
      ]
     },
     "execution_count": 273,
     "metadata": {},
     "output_type": "execute_result"
    }
   ],
   "source": [
    "plt.Figure((2, 1.5))"
   ]
  },
  {
   "cell_type": "code",
   "execution_count": 278,
   "id": "efd81dfe",
   "metadata": {},
   "outputs": [
    {
     "name": "stdout",
     "output_type": "stream",
     "text": [
      "-10.0\n",
      "174.0\n"
     ]
    },
    {
     "data": {
      "text/plain": [
       "[<matplotlib.lines.Line2D at 0x26e806844d0>]"
      ]
     },
     "execution_count": 278,
     "metadata": {},
     "output_type": "execute_result"
    }
   ],
   "source": [
    "xs = np.linspace(-10, 10, 101)\n",
    "coeffs = np.array([2, 3, 4])\n",
    "ys = np.dot(coeffs, [xs**2, xs**1, xs**0])\n",
    "print(xs[0])\n",
    "print(ys[0])\n",
    "\n",
    "plt.plot(xs, ys)"
   ]
  },
  {
   "cell_type": "code",
   "execution_count": 279,
   "id": "e4e59ee7",
   "metadata": {},
   "outputs": [
    {
     "data": {
      "image/png": "[encoded data removed]",
      "text/plain": [
       "<Figure size 640x480 with 1 Axes>"
      ]
     },
     "metadata": {},
     "output_type": "display_data"
    }
   ],
   "source": [
    "plt.show()"
   ]
  },
  {
   "cell_type": "code",
   "execution_count": 280,
   "id": "334e3a44",
   "metadata": {},
   "outputs": [],
   "source": [
    "# numpy vs all the math\n",
    "row_vec = np.arange(5).reshape(1,5)"
   ]
  },
  {
   "cell_type": "code",
   "execution_count": 281,
   "id": "a9d3d6a7",
   "metadata": {},
   "outputs": [],
   "source": [
    "col_vec = np.arange(5).reshape(5, 1)"
   ]
  },
  {
   "cell_type": "code",
   "execution_count": 282,
   "id": "58efe502",
   "metadata": {},
   "outputs": [
    {
     "data": {
      "text/plain": [
       "array([[0, 1, 2, 3, 4]])"
      ]
     },
     "execution_count": 282,
     "metadata": {},
     "output_type": "execute_result"
    }
   ],
   "source": [
    "row_vec"
   ]
  },
  {
   "cell_type": "code",
   "execution_count": 283,
   "id": "c68f711c",
   "metadata": {},
   "outputs": [
    {
     "data": {
      "text/plain": [
       "array([[0],\n",
       "       [1],\n",
       "       [2],\n",
       "       [3],\n",
       "       [4]])"
      ]
     },
     "execution_count": 283,
     "metadata": {},
     "output_type": "execute_result"
    }
   ],
   "source": [
    "col_vec"
   ]
  },
  {
   "cell_type": "code",
   "execution_count": 285,
   "id": "d9254429",
   "metadata": {},
   "outputs": [
    {
     "name": "stdout",
     "output_type": "stream",
     "text": [
      "row vec:\n",
      "[[0 1 2 3 4]]\n",
      "col vec:\n",
      "[[0]\n",
      " [1]\n",
      " [2]\n",
      " [3]\n",
      " [4]]\n",
      "dot:\n",
      "[[30]]\n"
     ]
    }
   ],
   "source": [
    "print(\"row vec:\", row_vec,\n",
    "      \"col vec:\", col_vec,\n",
    "      \"dot:\", np.dot(row_vec, col_vec), sep = '\\n')"
   ]
  },
  {
   "cell_type": "code",
   "execution_count": 286,
   "id": "6de42892",
   "metadata": {},
   "outputs": [
    {
     "name": "stdout",
     "output_type": "stream",
     "text": [
      "[[30]]\n"
     ]
    }
   ],
   "source": [
    "print(np.dot(row_vec, col_vec))"
   ]
  },
  {
   "cell_type": "code",
   "execution_count": 287,
   "id": "27f379bf",
   "metadata": {},
   "outputs": [
    {
     "name": "stdout",
     "output_type": "stream",
     "text": [
      "[[ 0  0  0  0  0]\n",
      " [ 0  1  2  3  4]\n",
      " [ 0  2  4  6  8]\n",
      " [ 0  3  6  9 12]\n",
      " [ 0  4  8 12 16]]\n"
     ]
    }
   ],
   "source": [
    "print(np.dot(col_vec, row_vec))"
   ]
  },
  {
   "cell_type": "code",
   "execution_count": 299,
   "id": "f9dd5676",
   "metadata": {},
   "outputs": [],
   "source": [
    "col_vec = np.arange(0, 50, 10).reshape(5, 1)\n",
    "row_vec = np.arange(0, 5).reshape(1, 5)\n",
    "\n",
    "oned_vec = np.arange(5)"
   ]
  },
  {
   "cell_type": "code",
   "execution_count": 300,
   "id": "d32494d4",
   "metadata": {},
   "outputs": [
    {
     "data": {
      "text/plain": [
       "(5, 1)"
      ]
     },
     "execution_count": 300,
     "metadata": {},
     "output_type": "execute_result"
    }
   ],
   "source": [
    "col_vec.shape"
   ]
  },
  {
   "cell_type": "code",
   "execution_count": 301,
   "id": "9af50438",
   "metadata": {},
   "outputs": [
    {
     "data": {
      "text/plain": [
       "(1, 5)"
      ]
     },
     "execution_count": 301,
     "metadata": {},
     "output_type": "execute_result"
    }
   ],
   "source": [
    "row_vec.shape"
   ]
  },
  {
   "cell_type": "code",
   "execution_count": 302,
   "id": "32069751",
   "metadata": {},
   "outputs": [
    {
     "data": {
      "text/plain": [
       "(5,)"
      ]
     },
     "execution_count": 302,
     "metadata": {},
     "output_type": "execute_result"
    }
   ],
   "source": [
    "oned_vec.shape"
   ]
  },
  {
   "cell_type": "code",
   "execution_count": 303,
   "id": "1a8f611b",
   "metadata": {},
   "outputs": [
    {
     "data": {
      "text/plain": [
       "array([300])"
      ]
     },
     "execution_count": 303,
     "metadata": {},
     "output_type": "execute_result"
    }
   ],
   "source": [
    "np.dot(oned_vec, col_vec)"
   ]
  },
  {
   "cell_type": "code",
   "execution_count": 304,
   "id": "e0cc6872",
   "metadata": {},
   "outputs": [
    {
     "data": {
      "text/plain": [
       "array([300])"
      ]
     },
     "execution_count": 304,
     "metadata": {},
     "output_type": "execute_result"
    }
   ],
   "source": [
    "np.dot(col_vec.T, oned_vec) ## used after taking the transpose -- because the inner dimensions are not matching "
   ]
  },
  {
   "cell_type": "code",
   "execution_count": 305,
   "id": "221b6032",
   "metadata": {},
   "outputs": [
    {
     "data": {
      "text/plain": [
       "array([30])"
      ]
     },
     "execution_count": 305,
     "metadata": {},
     "output_type": "execute_result"
    }
   ],
   "source": [
    "np.dot(oned_vec, row_vec.T) ## used after taking the transpose -- because the inner dimesions are not matching  "
   ]
  },
  {
   "cell_type": "code",
   "execution_count": 306,
   "id": "005c6b48",
   "metadata": {},
   "outputs": [
    {
     "data": {
      "text/plain": [
       "array([30])"
      ]
     },
     "execution_count": 306,
     "metadata": {},
     "output_type": "execute_result"
    }
   ],
   "source": [
    "np.dot(row_vec, oned_vec)"
   ]
  },
  {
   "cell_type": "code",
   "execution_count": 307,
   "id": "10f62ecc",
   "metadata": {},
   "outputs": [
    {
     "name": "stdout",
     "output_type": "stream",
     "text": [
      "True True\n"
     ]
    }
   ],
   "source": [
    "print(np.allclose(np.dot(oned_vec.reshape(1, 5), col_vec),\n",
    "    np.dot(oned_vec, col_vec)),\n",
    "    np.allclose(np.dot(row_vec, oned_vec.reshape(5, 1)), \n",
    "    np.dot(row_vec, oned_vec)))"
   ]
  },
  {
   "cell_type": "code",
   "execution_count": 318,
   "id": "f6d7fdab",
   "metadata": {},
   "outputs": [],
   "source": [
    "D = np.array([[1, 3],[2, 5],[2, 7],[3, 2]])\n",
    "\n",
    "weights = np.array([1.5, 2.5])"
   ]
  },
  {
   "cell_type": "code",
   "execution_count": 319,
   "id": "71c39061",
   "metadata": {},
   "outputs": [
    {
     "data": {
      "text/plain": [
       "(4, 2)"
      ]
     },
     "execution_count": 319,
     "metadata": {},
     "output_type": "execute_result"
    }
   ],
   "source": [
    "D.shape"
   ]
  },
  {
   "cell_type": "code",
   "execution_count": 320,
   "id": "6be8227a",
   "metadata": {},
   "outputs": [
    {
     "data": {
      "text/plain": [
       "(2,)"
      ]
     },
     "execution_count": 320,
     "metadata": {},
     "output_type": "execute_result"
    }
   ],
   "source": [
    "weights.shape"
   ]
  },
  {
   "cell_type": "code",
   "execution_count": 321,
   "id": "e24faa7f",
   "metadata": {},
   "outputs": [
    {
     "data": {
      "text/plain": [
       "array([ 9. , 15.5, 20.5,  9.5])"
      ]
     },
     "execution_count": 321,
     "metadata": {},
     "output_type": "execute_result"
    }
   ],
   "source": [
    "np.dot(D, weights)"
   ]
  },
  {
   "cell_type": "code",
   "execution_count": null,
   "id": "71897d35",
   "metadata": {},
   "outputs": [
    {
     "data": {
      "text/plain": [
       "array([ 9. , 15.5, 20.5,  9.5])"
      ]
     },
     "execution_count": 325,
     "metadata": {},
     "output_type": "execute_result"
    }
   ],
   "source": [
    "np.dot(weights, D.T) ## as the inner dimentions are not equal"
   ]
  },
  {
   "cell_type": "code",
   "execution_count": 326,
   "id": "cb2840aa",
   "metadata": {},
   "outputs": [],
   "source": [
    "## hence we will be making a function which will chnge the position when doing the multiplication \n",
    "def rdot(arr, brr):\n",
    "    return np.dot(brr, arr)"
   ]
  },
  {
   "cell_type": "code",
   "execution_count": 328,
   "id": "c1d8fe49",
   "metadata": {},
   "outputs": [
    {
     "data": {
      "text/plain": [
       "array([ 9. , 15.5, 20.5,  9.5])"
      ]
     },
     "execution_count": 328,
     "metadata": {},
     "output_type": "execute_result"
    }
   ],
   "source": [
    "rdot(w, D)"
   ]
  },
  {
   "cell_type": "code",
   "execution_count": 332,
   "id": "8661b91c",
   "metadata": {},
   "outputs": [
    {
     "data": {
      "text/plain": [
       "False"
      ]
     },
     "execution_count": 332,
     "metadata": {},
     "output_type": "execute_result"
    }
   ],
   "source": [
    "1.1 + 2.2 == 3.3 "
   ]
  },
  {
   "cell_type": "code",
   "execution_count": 330,
   "id": "4ff99f1c",
   "metadata": {},
   "outputs": [
    {
     "data": {
      "text/plain": [
       "True"
      ]
     },
     "execution_count": 330,
     "metadata": {},
     "output_type": "execute_result"
    }
   ],
   "source": [
    "np.allclose(1.1 + 2.2 , 3.3)"
   ]
  },
  {
   "cell_type": "code",
   "execution_count": null,
   "id": "b64f0fc1",
   "metadata": {},
   "outputs": [],
   "source": []
  }
 ],
 "metadata": {
  "kernelspec": {
   "display_name": "base",
   "language": "python",
   "name": "python3"
  },
  "language_info": {
   "codemirror_mode": {
    "name": "ipython",
    "version": 3
   },
   "file_extension": ".py",
   "mimetype": "text/x-python",
   "name": "python",
   "nbconvert_exporter": "python",
   "pygments_lexer": "ipython3",
   "version": "3.12.3"
  }
 },
 "nbformat": 4,
 "nbformat_minor": 5
}
