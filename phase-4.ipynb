{
 "cells": [
  {
   "cell_type": "code",
   "execution_count": 1,
   "id": "f03d423e",
   "metadata": {},
   "outputs": [],
   "source": [
    "import numpy as np\n",
    "import matplotlib.pyplot as plt"
   ]
  },
  {
   "cell_type": "code",
   "execution_count": 3,
   "id": "1ed81e2a",
   "metadata": {},
   "outputs": [],
   "source": [
    "array1 = np.array([[1, 2, 3], [4, 5, 6]])"
   ]
  },
  {
   "cell_type": "code",
   "execution_count": 4,
   "id": "e9e89ae9",
   "metadata": {},
   "outputs": [],
   "source": [
    "# as the server or can say this virtual environment is running then only we can access this array \n",
    "# but we can also save it and then load it from that file .. to use anytime\n",
    "np.save(\"array1.npy\", array1)"
   ]
  },
  {
   "cell_type": "code",
   "execution_count": 6,
   "id": "9cd2ec98",
   "metadata": {},
   "outputs": [
    {
     "name": "stdout",
     "output_type": "stream",
     "text": [
      "[[1 2 3]\n",
      " [4 5 6]]\n"
     ]
    }
   ],
   "source": [
    "# now can load it \n",
    "loaded_array = np.load(\"array1.npy\")\n",
    "print(loaded_array)"
   ]
  },
  {
   "cell_type": "code",
   "execution_count": null,
   "id": "6208b4ee",
   "metadata": {},
   "outputs": [],
   "source": [
    "## numpy image \n",
    "## this is not the exact log0 .. this is only for testing .. \n",
    "## this shows how a image is stored in array \n",
    "numpy_logo = np.array([\n",
    "    [1, 0, 0, 0, 1],\n",
    "    [1, 1, 0, 0, 1],\n",
    "    [1, 0, 1, 0, 1],\n",
    "    [1, 0, 0, 1, 1],\n",
    "    [1, 0, 0, 0, 1]\n",
    "])\n",
    "\n",
    "np.save('numpy-logo.npy', numpy_logo)"
   ]
  },
  {
   "cell_type": "code",
   "execution_count": 8,
   "id": "84847e80",
   "metadata": {},
   "outputs": [
    {
     "data": {
      "image/png": "[encoded data removed]",
      "text/plain": [
       "<Figure size 1000x500 with 2 Axes>"
      ]
     },
     "metadata": {},
     "output_type": "display_data"
    }
   ],
   "source": [
    "# this thing we could do like .. with stroing image in the form of array and vector and then using it.\n",
    "# storing image in vector means .. image contain a pixel and a pixel has a value of color which is a array .. and hence a vector or the matrix of pixels could be stored whihc will ultimtely store the image\n",
    "\n",
    "# use try catch for heavy work and work with uncertainity\n",
    "try:\n",
    "    logo = np.load('numpy-logo.npy')\n",
    "\n",
    "    # Display\n",
    "    plt.figure(figsize=(10, 5))\n",
    "\n",
    "    # Original\n",
    "    plt.subplot(121)\n",
    "    plt.imshow(logo)\n",
    "    plt.title(\"Numpy logo\")\n",
    "    plt.grid(False)\n",
    "\n",
    "    # dark mode could be done using various ways .. 1 is to flip all the bits \n",
    "    dark_logo = 1 - logo\n",
    "\n",
    "    # Dark\n",
    "    plt.subplot(122)\n",
    "    plt.imshow(dark_logo)\n",
    "    plt.title(\"Numpy Dark logo\")\n",
    "    plt.grid(False)\n",
    "\n",
    "except FileNotFoundError:\n",
    "    print(\"numpy logo file not found\")"
   ]
  },
  {
   "cell_type": "code",
   "execution_count": null,
   "id": "111c1d76",
   "metadata": {},
   "outputs": [],
   "source": []
  }
 ],
 "metadata": {
  "kernelspec": {
   "display_name": "venv",
   "language": "python",
   "name": "python3"
  },
  "language_info": {
   "codemirror_mode": {
    "name": "ipython",
    "version": 3
   },
   "file_extension": ".py",
   "mimetype": "text/x-python",
   "name": "python",
   "nbconvert_exporter": "python",
   "pygments_lexer": "ipython3",
   "version": "3.12.7"
  }
 },
 "nbformat": 4,
 "nbformat_minor": 5
}
